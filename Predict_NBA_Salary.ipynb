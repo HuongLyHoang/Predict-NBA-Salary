{
  "nbformat": 4,
  "nbformat_minor": 0,
  "metadata": {
    "colab": {
      "name": "Predict-NBA-Salary.ipynb",
      "provenance": []
    },
    "kernelspec": {
      "name": "python3",
      "display_name": "Python 3"
    },
    "language_info": {
      "name": "python"
    }
  },
  "cells": [
    {
      "cell_type": "markdown",
      "metadata": {
        "id": "zp7i01GhDjCM"
      },
      "source": [
        "# Import Packages and Data"
      ]
    },
    {
      "cell_type": "code",
      "metadata": {
        "id": "24BYirP4_8bE"
      },
      "source": [
        "#Import all the usual suspects\n",
        "\n",
        "import pandas as pd\n",
        "import numpy as np\n",
        "import matplotlib.pyplot as plt\n",
        "import seaborn as sns\n",
        "sns.set_context('notebook')\n",
        "%matplotlib inline\n",
        "\n",
        "np.random.seed(1)\n",
        "\n",
        "from sklearn.metrics import r2_score\n",
        "from sklearn.metrics import mean_absolute_error\n",
        "from sklearn.metrics import mean_squared_error"
      ],
      "execution_count": null,
      "outputs": []
    },
    {
      "cell_type": "code",
      "metadata": {
        "id": "juwgvxRMANYx"
      },
      "source": [
        "#Import Train % Test data\n",
        "nba_train=pd.read_csv('NBA_Train.csv', index_col ='Train_ID' )\n",
        "nba_test=pd.read_csv('NBA_Test.csv', index_col='Test_ID')"
      ],
      "execution_count": null,
      "outputs": []
    },
    {
      "cell_type": "code",
      "metadata": {
        "colab": {
          "base_uri": "https://localhost:8080/"
        },
        "id": "N0ZYL0isAPkS",
        "outputId": "0d2d69f9-1160-457e-b4fb-33f928441258"
      },
      "source": [
        "# Count number of Train data\n",
        "print('Train data:', len(nba_train))\n",
        "\n",
        "# Count number of Test data\n",
        "print('Test data:', len(nba_test))"
      ],
      "execution_count": null,
      "outputs": [
        {
          "output_type": "stream",
          "name": "stdout",
          "text": [
            "Train data: 126\n",
            "Test data: 127\n"
          ]
        }
      ]
    },
    {
      "cell_type": "code",
      "metadata": {
        "colab": {
          "base_uri": "https://localhost:8080/",
          "height": 254
        },
        "id": "13VoFZ0pAW6_",
        "outputId": "3af44df1-67e2-49c4-ee2b-c871f199c985"
      },
      "source": [
        "#Train data: Visualisaion of the first 5 rows \n",
        "nba_train.head()"
      ],
      "execution_count": null,
      "outputs": [
        {
          "output_type": "execute_result",
          "data": {
            "text/html": [
              "<div>\n",
              "<style scoped>\n",
              "    .dataframe tbody tr th:only-of-type {\n",
              "        vertical-align: middle;\n",
              "    }\n",
              "\n",
              "    .dataframe tbody tr th {\n",
              "        vertical-align: top;\n",
              "    }\n",
              "\n",
              "    .dataframe thead th {\n",
              "        text-align: right;\n",
              "    }\n",
              "</style>\n",
              "<table border=\"1\" class=\"dataframe\">\n",
              "  <thead>\n",
              "    <tr style=\"text-align: right;\">\n",
              "      <th></th>\n",
              "      <th>SALARY</th>\n",
              "      <th>POSITION</th>\n",
              "      <th>TEAM</th>\n",
              "      <th>Age</th>\n",
              "      <th>Games</th>\n",
              "      <th>Minutes</th>\n",
              "      <th>PER</th>\n",
              "      <th>TS</th>\n",
              "      <th>ORB</th>\n",
              "      <th>DRB</th>\n",
              "      <th>TRB</th>\n",
              "      <th>AST</th>\n",
              "      <th>STL</th>\n",
              "      <th>BLK</th>\n",
              "      <th>TOV</th>\n",
              "      <th>USG</th>\n",
              "      <th>ORtg</th>\n",
              "      <th>DRtg</th>\n",
              "      <th>OWS</th>\n",
              "      <th>DWS</th>\n",
              "      <th>WS</th>\n",
              "    </tr>\n",
              "    <tr>\n",
              "      <th>Train_ID</th>\n",
              "      <th></th>\n",
              "      <th></th>\n",
              "      <th></th>\n",
              "      <th></th>\n",
              "      <th></th>\n",
              "      <th></th>\n",
              "      <th></th>\n",
              "      <th></th>\n",
              "      <th></th>\n",
              "      <th></th>\n",
              "      <th></th>\n",
              "      <th></th>\n",
              "      <th></th>\n",
              "      <th></th>\n",
              "      <th></th>\n",
              "      <th></th>\n",
              "      <th></th>\n",
              "      <th></th>\n",
              "      <th></th>\n",
              "      <th></th>\n",
              "      <th></th>\n",
              "    </tr>\n",
              "  </thead>\n",
              "  <tbody>\n",
              "    <tr>\n",
              "      <th>1</th>\n",
              "      <td>2.489530</td>\n",
              "      <td>PF</td>\n",
              "      <td>Houston Rockets</td>\n",
              "      <td>22</td>\n",
              "      <td>76</td>\n",
              "      <td>2078</td>\n",
              "      <td>19.1</td>\n",
              "      <td>0.577</td>\n",
              "      <td>9.2</td>\n",
              "      <td>18.5</td>\n",
              "      <td>14.1</td>\n",
              "      <td>7.0</td>\n",
              "      <td>1.3</td>\n",
              "      <td>3.5</td>\n",
              "      <td>8.2</td>\n",
              "      <td>18.3</td>\n",
              "      <td>119</td>\n",
              "      <td>105</td>\n",
              "      <td>4.6</td>\n",
              "      <td>2.7</td>\n",
              "      <td>7.3</td>\n",
              "    </tr>\n",
              "    <tr>\n",
              "      <th>2</th>\n",
              "      <td>2.433333</td>\n",
              "      <td>PG</td>\n",
              "      <td>Utah Jazz</td>\n",
              "      <td>24</td>\n",
              "      <td>73</td>\n",
              "      <td>1490</td>\n",
              "      <td>13.2</td>\n",
              "      <td>0.510</td>\n",
              "      <td>1.6</td>\n",
              "      <td>10.7</td>\n",
              "      <td>6.2</td>\n",
              "      <td>28.8</td>\n",
              "      <td>1.7</td>\n",
              "      <td>0.1</td>\n",
              "      <td>14.3</td>\n",
              "      <td>19.0</td>\n",
              "      <td>105</td>\n",
              "      <td>109</td>\n",
              "      <td>1.2</td>\n",
              "      <td>1.2</td>\n",
              "      <td>2.3</td>\n",
              "    </tr>\n",
              "    <tr>\n",
              "      <th>3</th>\n",
              "      <td>20.158622</td>\n",
              "      <td>SF</td>\n",
              "      <td>Oklahoma City Thunder</td>\n",
              "      <td>25</td>\n",
              "      <td>81</td>\n",
              "      <td>3122</td>\n",
              "      <td>29.8</td>\n",
              "      <td>0.635</td>\n",
              "      <td>2.2</td>\n",
              "      <td>18.6</td>\n",
              "      <td>10.8</td>\n",
              "      <td>26.7</td>\n",
              "      <td>1.7</td>\n",
              "      <td>1.5</td>\n",
              "      <td>12.2</td>\n",
              "      <td>33.0</td>\n",
              "      <td>123</td>\n",
              "      <td>104</td>\n",
              "      <td>14.8</td>\n",
              "      <td>4.4</td>\n",
              "      <td>19.2</td>\n",
              "    </tr>\n",
              "    <tr>\n",
              "      <th>4</th>\n",
              "      <td>12.404495</td>\n",
              "      <td>PG</td>\n",
              "      <td>Houston Rockets</td>\n",
              "      <td>26</td>\n",
              "      <td>62</td>\n",
              "      <td>2222</td>\n",
              "      <td>19.0</td>\n",
              "      <td>0.554</td>\n",
              "      <td>1.9</td>\n",
              "      <td>8.5</td>\n",
              "      <td>5.2</td>\n",
              "      <td>38.2</td>\n",
              "      <td>2.2</td>\n",
              "      <td>0.3</td>\n",
              "      <td>16.9</td>\n",
              "      <td>22.7</td>\n",
              "      <td>113</td>\n",
              "      <td>110</td>\n",
              "      <td>4.8</td>\n",
              "      <td>1.5</td>\n",
              "      <td>6.3</td>\n",
              "    </tr>\n",
              "    <tr>\n",
              "      <th>5</th>\n",
              "      <td>1.500000</td>\n",
              "      <td>PG</td>\n",
              "      <td>Brooklyn Nets</td>\n",
              "      <td>21</td>\n",
              "      <td>48</td>\n",
              "      <td>489</td>\n",
              "      <td>8.3</td>\n",
              "      <td>0.446</td>\n",
              "      <td>2.6</td>\n",
              "      <td>7.3</td>\n",
              "      <td>5.0</td>\n",
              "      <td>20.4</td>\n",
              "      <td>2.7</td>\n",
              "      <td>0.2</td>\n",
              "      <td>20.9</td>\n",
              "      <td>17.4</td>\n",
              "      <td>90</td>\n",
              "      <td>110</td>\n",
              "      <td>-0.4</td>\n",
              "      <td>0.3</td>\n",
              "      <td>-0.1</td>\n",
              "    </tr>\n",
              "  </tbody>\n",
              "</table>\n",
              "</div>"
            ],
            "text/plain": [
              "             SALARY POSITION                   TEAM  Age  ...  DRtg   OWS  DWS    WS\n",
              "Train_ID                                                  ...                       \n",
              "1          2.489530       PF        Houston Rockets   22  ...   105   4.6  2.7   7.3\n",
              "2          2.433333       PG              Utah Jazz   24  ...   109   1.2  1.2   2.3\n",
              "3         20.158622       SF  Oklahoma City Thunder   25  ...   104  14.8  4.4  19.2\n",
              "4         12.404495       PG        Houston Rockets   26  ...   110   4.8  1.5   6.3\n",
              "5          1.500000       PG          Brooklyn Nets   21  ...   110  -0.4  0.3  -0.1\n",
              "\n",
              "[5 rows x 21 columns]"
            ]
          },
          "metadata": {},
          "execution_count": 4
        }
      ]
    },
    {
      "cell_type": "code",
      "metadata": {
        "colab": {
          "base_uri": "https://localhost:8080/",
          "height": 236
        },
        "id": "45F3MhuOAbBc",
        "outputId": "045aa299-9816-4ac9-b597-e9ff0537169d"
      },
      "source": [
        "#Test data: Visualisation of the first 5 rows\n",
        "nba_test.head()"
      ],
      "execution_count": null,
      "outputs": [
        {
          "output_type": "execute_result",
          "data": {
            "text/html": [
              "<div>\n",
              "<style scoped>\n",
              "    .dataframe tbody tr th:only-of-type {\n",
              "        vertical-align: middle;\n",
              "    }\n",
              "\n",
              "    .dataframe tbody tr th {\n",
              "        vertical-align: top;\n",
              "    }\n",
              "\n",
              "    .dataframe thead th {\n",
              "        text-align: right;\n",
              "    }\n",
              "</style>\n",
              "<table border=\"1\" class=\"dataframe\">\n",
              "  <thead>\n",
              "    <tr style=\"text-align: right;\">\n",
              "      <th></th>\n",
              "      <th>SALARY</th>\n",
              "      <th>POSITION</th>\n",
              "      <th>TEAM</th>\n",
              "      <th>Age</th>\n",
              "      <th>Games</th>\n",
              "      <th>Minutes</th>\n",
              "      <th>PER</th>\n",
              "      <th>TS</th>\n",
              "      <th>ORB</th>\n",
              "      <th>DRB</th>\n",
              "      <th>TRB</th>\n",
              "      <th>AST</th>\n",
              "      <th>STL</th>\n",
              "      <th>BLK</th>\n",
              "      <th>TOV</th>\n",
              "      <th>USG</th>\n",
              "      <th>ORtg</th>\n",
              "      <th>DRtg</th>\n",
              "      <th>OWS</th>\n",
              "      <th>DWS</th>\n",
              "      <th>WS</th>\n",
              "    </tr>\n",
              "    <tr>\n",
              "      <th>Test_ID</th>\n",
              "      <th></th>\n",
              "      <th></th>\n",
              "      <th></th>\n",
              "      <th></th>\n",
              "      <th></th>\n",
              "      <th></th>\n",
              "      <th></th>\n",
              "      <th></th>\n",
              "      <th></th>\n",
              "      <th></th>\n",
              "      <th></th>\n",
              "      <th></th>\n",
              "      <th></th>\n",
              "      <th></th>\n",
              "      <th></th>\n",
              "      <th></th>\n",
              "      <th></th>\n",
              "      <th></th>\n",
              "      <th></th>\n",
              "      <th></th>\n",
              "      <th></th>\n",
              "    </tr>\n",
              "  </thead>\n",
              "  <tbody>\n",
              "    <tr>\n",
              "      <th>1</th>\n",
              "      <td>18.671659</td>\n",
              "      <td>PF</td>\n",
              "      <td>Atlanta Hawks</td>\n",
              "      <td>28</td>\n",
              "      <td>74</td>\n",
              "      <td>2482</td>\n",
              "      <td>19.8</td>\n",
              "      <td>0.545</td>\n",
              "      <td>7.2</td>\n",
              "      <td>21.9</td>\n",
              "      <td>14.6</td>\n",
              "      <td>16.2</td>\n",
              "      <td>2.6</td>\n",
              "      <td>2.5</td>\n",
              "      <td>13.2</td>\n",
              "      <td>25.7</td>\n",
              "      <td>105</td>\n",
              "      <td>102</td>\n",
              "      <td>2.7</td>\n",
              "      <td>4.0</td>\n",
              "      <td>6.7</td>\n",
              "    </tr>\n",
              "    <tr>\n",
              "      <th>2</th>\n",
              "      <td>5.250000</td>\n",
              "      <td>C</td>\n",
              "      <td>San Antonio Spurs</td>\n",
              "      <td>37</td>\n",
              "      <td>74</td>\n",
              "      <td>2158</td>\n",
              "      <td>21.3</td>\n",
              "      <td>0.535</td>\n",
              "      <td>8.6</td>\n",
              "      <td>28.3</td>\n",
              "      <td>18.8</td>\n",
              "      <td>16.0</td>\n",
              "      <td>1.0</td>\n",
              "      <td>4.6</td>\n",
              "      <td>13.2</td>\n",
              "      <td>25.2</td>\n",
              "      <td>106</td>\n",
              "      <td>98</td>\n",
              "      <td>2.8</td>\n",
              "      <td>4.6</td>\n",
              "      <td>7.4</td>\n",
              "    </tr>\n",
              "    <tr>\n",
              "      <th>3</th>\n",
              "      <td>3.376000</td>\n",
              "      <td>SF</td>\n",
              "      <td>Los Angeles Clippers</td>\n",
              "      <td>36</td>\n",
              "      <td>75</td>\n",
              "      <td>2098</td>\n",
              "      <td>16.8</td>\n",
              "      <td>0.595</td>\n",
              "      <td>1.5</td>\n",
              "      <td>18.3</td>\n",
              "      <td>9.9</td>\n",
              "      <td>14.5</td>\n",
              "      <td>2.2</td>\n",
              "      <td>1.2</td>\n",
              "      <td>15.3</td>\n",
              "      <td>22.4</td>\n",
              "      <td>109</td>\n",
              "      <td>106</td>\n",
              "      <td>2.9</td>\n",
              "      <td>2.3</td>\n",
              "      <td>5.2</td>\n",
              "    </tr>\n",
              "    <tr>\n",
              "      <th>4</th>\n",
              "      <td>3.425510</td>\n",
              "      <td>SG</td>\n",
              "      <td>Boston Celtics</td>\n",
              "      <td>25</td>\n",
              "      <td>81</td>\n",
              "      <td>2457</td>\n",
              "      <td>12.4</td>\n",
              "      <td>0.498</td>\n",
              "      <td>2.7</td>\n",
              "      <td>15.7</td>\n",
              "      <td>9.0</td>\n",
              "      <td>17.8</td>\n",
              "      <td>1.3</td>\n",
              "      <td>0.2</td>\n",
              "      <td>14.3</td>\n",
              "      <td>23.2</td>\n",
              "      <td>97</td>\n",
              "      <td>109</td>\n",
              "      <td>-0.5</td>\n",
              "      <td>1.8</td>\n",
              "      <td>1.4</td>\n",
              "    </tr>\n",
              "    <tr>\n",
              "      <th>5</th>\n",
              "      <td>10.449438</td>\n",
              "      <td>SF</td>\n",
              "      <td>Denver Nuggets</td>\n",
              "      <td>26</td>\n",
              "      <td>62</td>\n",
              "      <td>1927</td>\n",
              "      <td>12.4</td>\n",
              "      <td>0.526</td>\n",
              "      <td>3.2</td>\n",
              "      <td>13.3</td>\n",
              "      <td>8.2</td>\n",
              "      <td>9.3</td>\n",
              "      <td>1.2</td>\n",
              "      <td>1.2</td>\n",
              "      <td>8.9</td>\n",
              "      <td>19.5</td>\n",
              "      <td>107</td>\n",
              "      <td>110</td>\n",
              "      <td>1.8</td>\n",
              "      <td>1.2</td>\n",
              "      <td>3.1</td>\n",
              "    </tr>\n",
              "  </tbody>\n",
              "</table>\n",
              "</div>"
            ],
            "text/plain": [
              "            SALARY POSITION                  TEAM  Age  ...  DRtg  OWS  DWS   WS\n",
              "Test_ID                                                 ...                     \n",
              "1        18.671659       PF         Atlanta Hawks   28  ...   102  2.7  4.0  6.7\n",
              "2         5.250000        C     San Antonio Spurs   37  ...    98  2.8  4.6  7.4\n",
              "3         3.376000       SF  Los Angeles Clippers   36  ...   106  2.9  2.3  5.2\n",
              "4         3.425510       SG        Boston Celtics   25  ...   109 -0.5  1.8  1.4\n",
              "5        10.449438       SF        Denver Nuggets   26  ...   110  1.8  1.2  3.1\n",
              "\n",
              "[5 rows x 21 columns]"
            ]
          },
          "metadata": {},
          "execution_count": 5
        }
      ]
    },
    {
      "cell_type": "markdown",
      "metadata": {
        "id": "vTsiog4ldxiH"
      },
      "source": [
        "# Exploratory Data Analysis (EDA)"
      ]
    },
    {
      "cell_type": "code",
      "metadata": {
        "colab": {
          "base_uri": "https://localhost:8080/",
          "height": 299
        },
        "id": "nsMetTYJAs4X",
        "outputId": "5c3d352e-3ec3-4f46-958f-1b4d1ae0a1e2"
      },
      "source": [
        "# Descriptive statistics of Train data\n",
        "nba_train.describe().round(1)"
      ],
      "execution_count": null,
      "outputs": [
        {
          "output_type": "execute_result",
          "data": {
            "text/html": [
              "<div>\n",
              "<style scoped>\n",
              "    .dataframe tbody tr th:only-of-type {\n",
              "        vertical-align: middle;\n",
              "    }\n",
              "\n",
              "    .dataframe tbody tr th {\n",
              "        vertical-align: top;\n",
              "    }\n",
              "\n",
              "    .dataframe thead th {\n",
              "        text-align: right;\n",
              "    }\n",
              "</style>\n",
              "<table border=\"1\" class=\"dataframe\">\n",
              "  <thead>\n",
              "    <tr style=\"text-align: right;\">\n",
              "      <th></th>\n",
              "      <th>SALARY</th>\n",
              "      <th>Age</th>\n",
              "      <th>Games</th>\n",
              "      <th>Minutes</th>\n",
              "      <th>PER</th>\n",
              "      <th>TS</th>\n",
              "      <th>ORB</th>\n",
              "      <th>DRB</th>\n",
              "      <th>TRB</th>\n",
              "      <th>AST</th>\n",
              "      <th>STL</th>\n",
              "      <th>BLK</th>\n",
              "      <th>TOV</th>\n",
              "      <th>USG</th>\n",
              "      <th>ORtg</th>\n",
              "      <th>DRtg</th>\n",
              "      <th>OWS</th>\n",
              "      <th>DWS</th>\n",
              "      <th>WS</th>\n",
              "    </tr>\n",
              "  </thead>\n",
              "  <tbody>\n",
              "    <tr>\n",
              "      <th>count</th>\n",
              "      <td>126.0</td>\n",
              "      <td>126.0</td>\n",
              "      <td>126.0</td>\n",
              "      <td>126.0</td>\n",
              "      <td>126.0</td>\n",
              "      <td>126.0</td>\n",
              "      <td>126.0</td>\n",
              "      <td>126.0</td>\n",
              "      <td>126.0</td>\n",
              "      <td>126.0</td>\n",
              "      <td>126.0</td>\n",
              "      <td>126.0</td>\n",
              "      <td>126.0</td>\n",
              "      <td>126.0</td>\n",
              "      <td>126.0</td>\n",
              "      <td>126.0</td>\n",
              "      <td>126.0</td>\n",
              "      <td>126.0</td>\n",
              "      <td>126.0</td>\n",
              "    </tr>\n",
              "    <tr>\n",
              "      <th>mean</th>\n",
              "      <td>6.8</td>\n",
              "      <td>26.7</td>\n",
              "      <td>69.5</td>\n",
              "      <td>1809.0</td>\n",
              "      <td>15.0</td>\n",
              "      <td>0.5</td>\n",
              "      <td>5.2</td>\n",
              "      <td>15.1</td>\n",
              "      <td>10.1</td>\n",
              "      <td>14.5</td>\n",
              "      <td>1.6</td>\n",
              "      <td>1.5</td>\n",
              "      <td>13.5</td>\n",
              "      <td>20.0</td>\n",
              "      <td>107.2</td>\n",
              "      <td>106.9</td>\n",
              "      <td>2.3</td>\n",
              "      <td>1.8</td>\n",
              "      <td>4.2</td>\n",
              "    </tr>\n",
              "    <tr>\n",
              "      <th>std</th>\n",
              "      <td>5.6</td>\n",
              "      <td>4.1</td>\n",
              "      <td>11.4</td>\n",
              "      <td>703.6</td>\n",
              "      <td>4.3</td>\n",
              "      <td>0.0</td>\n",
              "      <td>3.8</td>\n",
              "      <td>6.0</td>\n",
              "      <td>4.6</td>\n",
              "      <td>9.8</td>\n",
              "      <td>0.6</td>\n",
              "      <td>1.4</td>\n",
              "      <td>4.2</td>\n",
              "      <td>5.0</td>\n",
              "      <td>7.6</td>\n",
              "      <td>3.7</td>\n",
              "      <td>2.6</td>\n",
              "      <td>1.2</td>\n",
              "      <td>3.4</td>\n",
              "    </tr>\n",
              "    <tr>\n",
              "      <th>min</th>\n",
              "      <td>0.1</td>\n",
              "      <td>19.0</td>\n",
              "      <td>40.0</td>\n",
              "      <td>393.0</td>\n",
              "      <td>6.3</td>\n",
              "      <td>0.4</td>\n",
              "      <td>1.0</td>\n",
              "      <td>6.2</td>\n",
              "      <td>4.1</td>\n",
              "      <td>2.1</td>\n",
              "      <td>0.2</td>\n",
              "      <td>0.0</td>\n",
              "      <td>7.2</td>\n",
              "      <td>9.3</td>\n",
              "      <td>88.0</td>\n",
              "      <td>97.0</td>\n",
              "      <td>-0.9</td>\n",
              "      <td>0.0</td>\n",
              "      <td>-0.1</td>\n",
              "    </tr>\n",
              "    <tr>\n",
              "      <th>25%</th>\n",
              "      <td>2.4</td>\n",
              "      <td>23.0</td>\n",
              "      <td>62.0</td>\n",
              "      <td>1290.2</td>\n",
              "      <td>12.4</td>\n",
              "      <td>0.5</td>\n",
              "      <td>2.1</td>\n",
              "      <td>10.1</td>\n",
              "      <td>6.0</td>\n",
              "      <td>7.0</td>\n",
              "      <td>1.1</td>\n",
              "      <td>0.6</td>\n",
              "      <td>10.4</td>\n",
              "      <td>16.4</td>\n",
              "      <td>102.0</td>\n",
              "      <td>104.0</td>\n",
              "      <td>0.6</td>\n",
              "      <td>0.9</td>\n",
              "      <td>1.7</td>\n",
              "    </tr>\n",
              "    <tr>\n",
              "      <th>50%</th>\n",
              "      <td>4.5</td>\n",
              "      <td>26.0</td>\n",
              "      <td>72.5</td>\n",
              "      <td>1859.0</td>\n",
              "      <td>14.0</td>\n",
              "      <td>0.5</td>\n",
              "      <td>3.7</td>\n",
              "      <td>13.8</td>\n",
              "      <td>9.2</td>\n",
              "      <td>11.2</td>\n",
              "      <td>1.5</td>\n",
              "      <td>1.1</td>\n",
              "      <td>12.5</td>\n",
              "      <td>19.1</td>\n",
              "      <td>107.0</td>\n",
              "      <td>107.0</td>\n",
              "      <td>1.6</td>\n",
              "      <td>1.6</td>\n",
              "      <td>3.2</td>\n",
              "    </tr>\n",
              "    <tr>\n",
              "      <th>75%</th>\n",
              "      <td>9.6</td>\n",
              "      <td>29.0</td>\n",
              "      <td>79.0</td>\n",
              "      <td>2405.0</td>\n",
              "      <td>16.8</td>\n",
              "      <td>0.6</td>\n",
              "      <td>7.3</td>\n",
              "      <td>19.2</td>\n",
              "      <td>13.9</td>\n",
              "      <td>20.0</td>\n",
              "      <td>2.0</td>\n",
              "      <td>1.9</td>\n",
              "      <td>15.5</td>\n",
              "      <td>23.3</td>\n",
              "      <td>112.0</td>\n",
              "      <td>110.0</td>\n",
              "      <td>3.3</td>\n",
              "      <td>2.5</td>\n",
              "      <td>5.6</td>\n",
              "    </tr>\n",
              "    <tr>\n",
              "      <th>max</th>\n",
              "      <td>23.0</td>\n",
              "      <td>37.0</td>\n",
              "      <td>82.0</td>\n",
              "      <td>3122.0</td>\n",
              "      <td>29.8</td>\n",
              "      <td>0.7</td>\n",
              "      <td>17.5</td>\n",
              "      <td>32.1</td>\n",
              "      <td>22.3</td>\n",
              "      <td>44.3</td>\n",
              "      <td>3.8</td>\n",
              "      <td>7.4</td>\n",
              "      <td>28.8</td>\n",
              "      <td>33.0</td>\n",
              "      <td>130.0</td>\n",
              "      <td>115.0</td>\n",
              "      <td>14.8</td>\n",
              "      <td>6.4</td>\n",
              "      <td>19.2</td>\n",
              "    </tr>\n",
              "  </tbody>\n",
              "</table>\n",
              "</div>"
            ],
            "text/plain": [
              "       SALARY    Age  Games  Minutes    PER  ...   ORtg   DRtg    OWS    DWS     WS\n",
              "count   126.0  126.0  126.0    126.0  126.0  ...  126.0  126.0  126.0  126.0  126.0\n",
              "mean      6.8   26.7   69.5   1809.0   15.0  ...  107.2  106.9    2.3    1.8    4.2\n",
              "std       5.6    4.1   11.4    703.6    4.3  ...    7.6    3.7    2.6    1.2    3.4\n",
              "min       0.1   19.0   40.0    393.0    6.3  ...   88.0   97.0   -0.9    0.0   -0.1\n",
              "25%       2.4   23.0   62.0   1290.2   12.4  ...  102.0  104.0    0.6    0.9    1.7\n",
              "50%       4.5   26.0   72.5   1859.0   14.0  ...  107.0  107.0    1.6    1.6    3.2\n",
              "75%       9.6   29.0   79.0   2405.0   16.8  ...  112.0  110.0    3.3    2.5    5.6\n",
              "max      23.0   37.0   82.0   3122.0   29.8  ...  130.0  115.0   14.8    6.4   19.2\n",
              "\n",
              "[8 rows x 19 columns]"
            ]
          },
          "metadata": {},
          "execution_count": 6
        }
      ]
    },
    {
      "cell_type": "code",
      "metadata": {
        "id": "E9VhgnnpAeDd"
      },
      "source": [
        "#'Normalise' SALARY using log transformation\n",
        "nba_train['log_salary'] = np.log(nba_train['SALARY'])\n",
        "nba_test['log_salary'] = np.log(nba_test['SALARY'])"
      ],
      "execution_count": null,
      "outputs": []
    },
    {
      "cell_type": "code",
      "metadata": {
        "colab": {
          "base_uri": "https://localhost:8080/",
          "height": 299
        },
        "id": "mMMk2e9Uef1-",
        "outputId": "29e9521f-4a75-4471-83d7-88d34f197673"
      },
      "source": [
        "# Descriptive statistics of Train data\n",
        "nba_train.describe().round(1)"
      ],
      "execution_count": null,
      "outputs": [
        {
          "output_type": "execute_result",
          "data": {
            "text/html": [
              "<div>\n",
              "<style scoped>\n",
              "    .dataframe tbody tr th:only-of-type {\n",
              "        vertical-align: middle;\n",
              "    }\n",
              "\n",
              "    .dataframe tbody tr th {\n",
              "        vertical-align: top;\n",
              "    }\n",
              "\n",
              "    .dataframe thead th {\n",
              "        text-align: right;\n",
              "    }\n",
              "</style>\n",
              "<table border=\"1\" class=\"dataframe\">\n",
              "  <thead>\n",
              "    <tr style=\"text-align: right;\">\n",
              "      <th></th>\n",
              "      <th>SALARY</th>\n",
              "      <th>Age</th>\n",
              "      <th>Games</th>\n",
              "      <th>Minutes</th>\n",
              "      <th>PER</th>\n",
              "      <th>TS</th>\n",
              "      <th>ORB</th>\n",
              "      <th>DRB</th>\n",
              "      <th>TRB</th>\n",
              "      <th>AST</th>\n",
              "      <th>STL</th>\n",
              "      <th>BLK</th>\n",
              "      <th>TOV</th>\n",
              "      <th>USG</th>\n",
              "      <th>ORtg</th>\n",
              "      <th>DRtg</th>\n",
              "      <th>OWS</th>\n",
              "      <th>DWS</th>\n",
              "      <th>WS</th>\n",
              "      <th>log_salary</th>\n",
              "    </tr>\n",
              "  </thead>\n",
              "  <tbody>\n",
              "    <tr>\n",
              "      <th>count</th>\n",
              "      <td>126.0</td>\n",
              "      <td>126.0</td>\n",
              "      <td>126.0</td>\n",
              "      <td>126.0</td>\n",
              "      <td>126.0</td>\n",
              "      <td>126.0</td>\n",
              "      <td>126.0</td>\n",
              "      <td>126.0</td>\n",
              "      <td>126.0</td>\n",
              "      <td>126.0</td>\n",
              "      <td>126.0</td>\n",
              "      <td>126.0</td>\n",
              "      <td>126.0</td>\n",
              "      <td>126.0</td>\n",
              "      <td>126.0</td>\n",
              "      <td>126.0</td>\n",
              "      <td>126.0</td>\n",
              "      <td>126.0</td>\n",
              "      <td>126.0</td>\n",
              "      <td>126.0</td>\n",
              "    </tr>\n",
              "    <tr>\n",
              "      <th>mean</th>\n",
              "      <td>6.8</td>\n",
              "      <td>26.7</td>\n",
              "      <td>69.5</td>\n",
              "      <td>1809.0</td>\n",
              "      <td>15.0</td>\n",
              "      <td>0.5</td>\n",
              "      <td>5.2</td>\n",
              "      <td>15.1</td>\n",
              "      <td>10.1</td>\n",
              "      <td>14.5</td>\n",
              "      <td>1.6</td>\n",
              "      <td>1.5</td>\n",
              "      <td>13.5</td>\n",
              "      <td>20.0</td>\n",
              "      <td>107.2</td>\n",
              "      <td>106.9</td>\n",
              "      <td>2.3</td>\n",
              "      <td>1.8</td>\n",
              "      <td>4.2</td>\n",
              "      <td>1.5</td>\n",
              "    </tr>\n",
              "    <tr>\n",
              "      <th>std</th>\n",
              "      <td>5.6</td>\n",
              "      <td>4.1</td>\n",
              "      <td>11.4</td>\n",
              "      <td>703.6</td>\n",
              "      <td>4.3</td>\n",
              "      <td>0.0</td>\n",
              "      <td>3.8</td>\n",
              "      <td>6.0</td>\n",
              "      <td>4.6</td>\n",
              "      <td>9.8</td>\n",
              "      <td>0.6</td>\n",
              "      <td>1.4</td>\n",
              "      <td>4.2</td>\n",
              "      <td>5.0</td>\n",
              "      <td>7.6</td>\n",
              "      <td>3.7</td>\n",
              "      <td>2.6</td>\n",
              "      <td>1.2</td>\n",
              "      <td>3.4</td>\n",
              "      <td>0.9</td>\n",
              "    </tr>\n",
              "    <tr>\n",
              "      <th>min</th>\n",
              "      <td>0.1</td>\n",
              "      <td>19.0</td>\n",
              "      <td>40.0</td>\n",
              "      <td>393.0</td>\n",
              "      <td>6.3</td>\n",
              "      <td>0.4</td>\n",
              "      <td>1.0</td>\n",
              "      <td>6.2</td>\n",
              "      <td>4.1</td>\n",
              "      <td>2.1</td>\n",
              "      <td>0.2</td>\n",
              "      <td>0.0</td>\n",
              "      <td>7.2</td>\n",
              "      <td>9.3</td>\n",
              "      <td>88.0</td>\n",
              "      <td>97.0</td>\n",
              "      <td>-0.9</td>\n",
              "      <td>0.0</td>\n",
              "      <td>-0.1</td>\n",
              "      <td>-2.2</td>\n",
              "    </tr>\n",
              "    <tr>\n",
              "      <th>25%</th>\n",
              "      <td>2.4</td>\n",
              "      <td>23.0</td>\n",
              "      <td>62.0</td>\n",
              "      <td>1290.2</td>\n",
              "      <td>12.4</td>\n",
              "      <td>0.5</td>\n",
              "      <td>2.1</td>\n",
              "      <td>10.1</td>\n",
              "      <td>6.0</td>\n",
              "      <td>7.0</td>\n",
              "      <td>1.1</td>\n",
              "      <td>0.6</td>\n",
              "      <td>10.4</td>\n",
              "      <td>16.4</td>\n",
              "      <td>102.0</td>\n",
              "      <td>104.0</td>\n",
              "      <td>0.6</td>\n",
              "      <td>0.9</td>\n",
              "      <td>1.7</td>\n",
              "      <td>0.9</td>\n",
              "    </tr>\n",
              "    <tr>\n",
              "      <th>50%</th>\n",
              "      <td>4.5</td>\n",
              "      <td>26.0</td>\n",
              "      <td>72.5</td>\n",
              "      <td>1859.0</td>\n",
              "      <td>14.0</td>\n",
              "      <td>0.5</td>\n",
              "      <td>3.7</td>\n",
              "      <td>13.8</td>\n",
              "      <td>9.2</td>\n",
              "      <td>11.2</td>\n",
              "      <td>1.5</td>\n",
              "      <td>1.1</td>\n",
              "      <td>12.5</td>\n",
              "      <td>19.1</td>\n",
              "      <td>107.0</td>\n",
              "      <td>107.0</td>\n",
              "      <td>1.6</td>\n",
              "      <td>1.6</td>\n",
              "      <td>3.2</td>\n",
              "      <td>1.5</td>\n",
              "    </tr>\n",
              "    <tr>\n",
              "      <th>75%</th>\n",
              "      <td>9.6</td>\n",
              "      <td>29.0</td>\n",
              "      <td>79.0</td>\n",
              "      <td>2405.0</td>\n",
              "      <td>16.8</td>\n",
              "      <td>0.6</td>\n",
              "      <td>7.3</td>\n",
              "      <td>19.2</td>\n",
              "      <td>13.9</td>\n",
              "      <td>20.0</td>\n",
              "      <td>2.0</td>\n",
              "      <td>1.9</td>\n",
              "      <td>15.5</td>\n",
              "      <td>23.3</td>\n",
              "      <td>112.0</td>\n",
              "      <td>110.0</td>\n",
              "      <td>3.3</td>\n",
              "      <td>2.5</td>\n",
              "      <td>5.6</td>\n",
              "      <td>2.3</td>\n",
              "    </tr>\n",
              "    <tr>\n",
              "      <th>max</th>\n",
              "      <td>23.0</td>\n",
              "      <td>37.0</td>\n",
              "      <td>82.0</td>\n",
              "      <td>3122.0</td>\n",
              "      <td>29.8</td>\n",
              "      <td>0.7</td>\n",
              "      <td>17.5</td>\n",
              "      <td>32.1</td>\n",
              "      <td>22.3</td>\n",
              "      <td>44.3</td>\n",
              "      <td>3.8</td>\n",
              "      <td>7.4</td>\n",
              "      <td>28.8</td>\n",
              "      <td>33.0</td>\n",
              "      <td>130.0</td>\n",
              "      <td>115.0</td>\n",
              "      <td>14.8</td>\n",
              "      <td>6.4</td>\n",
              "      <td>19.2</td>\n",
              "      <td>3.1</td>\n",
              "    </tr>\n",
              "  </tbody>\n",
              "</table>\n",
              "</div>"
            ],
            "text/plain": [
              "       SALARY    Age  Games  Minutes  ...    OWS    DWS     WS  log_salary\n",
              "count   126.0  126.0  126.0    126.0  ...  126.0  126.0  126.0       126.0\n",
              "mean      6.8   26.7   69.5   1809.0  ...    2.3    1.8    4.2         1.5\n",
              "std       5.6    4.1   11.4    703.6  ...    2.6    1.2    3.4         0.9\n",
              "min       0.1   19.0   40.0    393.0  ...   -0.9    0.0   -0.1        -2.2\n",
              "25%       2.4   23.0   62.0   1290.2  ...    0.6    0.9    1.7         0.9\n",
              "50%       4.5   26.0   72.5   1859.0  ...    1.6    1.6    3.2         1.5\n",
              "75%       9.6   29.0   79.0   2405.0  ...    3.3    2.5    5.6         2.3\n",
              "max      23.0   37.0   82.0   3122.0  ...   14.8    6.4   19.2         3.1\n",
              "\n",
              "[8 rows x 20 columns]"
            ]
          },
          "metadata": {},
          "execution_count": 8
        }
      ]
    },
    {
      "cell_type": "markdown",
      "metadata": {
        "id": "PVSMSC-ghsQA"
      },
      "source": [
        "From initial observation, since 'count' row of the statistics description table all return equivalent 126 datapoints for each column, equivalent with the total number of datapoints in Train data, indicating NO MISSINGE VALUES."
      ]
    },
    {
      "cell_type": "code",
      "metadata": {
        "colab": {
          "base_uri": "https://localhost:8080/",
          "height": 675
        },
        "id": "NHw3r-PxBSbR",
        "outputId": "da2774bb-0ff0-44b6-ef34-a38594ac8c95"
      },
      "source": [
        "# Pairwise correlation table\n",
        "nba_train.corr().round(2)"
      ],
      "execution_count": null,
      "outputs": [
        {
          "output_type": "execute_result",
          "data": {
            "text/html": [
              "<div>\n",
              "<style scoped>\n",
              "    .dataframe tbody tr th:only-of-type {\n",
              "        vertical-align: middle;\n",
              "    }\n",
              "\n",
              "    .dataframe tbody tr th {\n",
              "        vertical-align: top;\n",
              "    }\n",
              "\n",
              "    .dataframe thead th {\n",
              "        text-align: right;\n",
              "    }\n",
              "</style>\n",
              "<table border=\"1\" class=\"dataframe\">\n",
              "  <thead>\n",
              "    <tr style=\"text-align: right;\">\n",
              "      <th></th>\n",
              "      <th>SALARY</th>\n",
              "      <th>Age</th>\n",
              "      <th>Games</th>\n",
              "      <th>Minutes</th>\n",
              "      <th>PER</th>\n",
              "      <th>TS</th>\n",
              "      <th>ORB</th>\n",
              "      <th>DRB</th>\n",
              "      <th>TRB</th>\n",
              "      <th>AST</th>\n",
              "      <th>STL</th>\n",
              "      <th>BLK</th>\n",
              "      <th>TOV</th>\n",
              "      <th>USG</th>\n",
              "      <th>ORtg</th>\n",
              "      <th>DRtg</th>\n",
              "      <th>OWS</th>\n",
              "      <th>DWS</th>\n",
              "      <th>WS</th>\n",
              "      <th>log_salary</th>\n",
              "    </tr>\n",
              "  </thead>\n",
              "  <tbody>\n",
              "    <tr>\n",
              "      <th>SALARY</th>\n",
              "      <td>1.00</td>\n",
              "      <td>0.05</td>\n",
              "      <td>0.21</td>\n",
              "      <td>0.62</td>\n",
              "      <td>0.67</td>\n",
              "      <td>0.21</td>\n",
              "      <td>-0.04</td>\n",
              "      <td>0.17</td>\n",
              "      <td>0.10</td>\n",
              "      <td>0.31</td>\n",
              "      <td>0.17</td>\n",
              "      <td>-0.04</td>\n",
              "      <td>-0.13</td>\n",
              "      <td>0.62</td>\n",
              "      <td>0.25</td>\n",
              "      <td>-0.27</td>\n",
              "      <td>0.60</td>\n",
              "      <td>0.63</td>\n",
              "      <td>0.68</td>\n",
              "      <td>0.89</td>\n",
              "    </tr>\n",
              "    <tr>\n",
              "      <th>Age</th>\n",
              "      <td>0.05</td>\n",
              "      <td>1.00</td>\n",
              "      <td>-0.13</td>\n",
              "      <td>-0.01</td>\n",
              "      <td>0.10</td>\n",
              "      <td>0.23</td>\n",
              "      <td>-0.08</td>\n",
              "      <td>0.05</td>\n",
              "      <td>0.01</td>\n",
              "      <td>0.09</td>\n",
              "      <td>-0.01</td>\n",
              "      <td>-0.03</td>\n",
              "      <td>0.07</td>\n",
              "      <td>0.03</td>\n",
              "      <td>0.17</td>\n",
              "      <td>-0.12</td>\n",
              "      <td>0.04</td>\n",
              "      <td>0.08</td>\n",
              "      <td>0.06</td>\n",
              "      <td>0.09</td>\n",
              "    </tr>\n",
              "    <tr>\n",
              "      <th>Games</th>\n",
              "      <td>0.21</td>\n",
              "      <td>-0.13</td>\n",
              "      <td>1.00</td>\n",
              "      <td>0.70</td>\n",
              "      <td>0.22</td>\n",
              "      <td>0.22</td>\n",
              "      <td>-0.04</td>\n",
              "      <td>-0.07</td>\n",
              "      <td>-0.06</td>\n",
              "      <td>0.05</td>\n",
              "      <td>-0.01</td>\n",
              "      <td>-0.10</td>\n",
              "      <td>-0.17</td>\n",
              "      <td>0.14</td>\n",
              "      <td>0.28</td>\n",
              "      <td>-0.11</td>\n",
              "      <td>0.39</td>\n",
              "      <td>0.49</td>\n",
              "      <td>0.47</td>\n",
              "      <td>0.28</td>\n",
              "    </tr>\n",
              "    <tr>\n",
              "      <th>Minutes</th>\n",
              "      <td>0.62</td>\n",
              "      <td>-0.01</td>\n",
              "      <td>0.70</td>\n",
              "      <td>1.00</td>\n",
              "      <td>0.54</td>\n",
              "      <td>0.24</td>\n",
              "      <td>-0.28</td>\n",
              "      <td>-0.13</td>\n",
              "      <td>-0.20</td>\n",
              "      <td>0.40</td>\n",
              "      <td>0.20</td>\n",
              "      <td>-0.23</td>\n",
              "      <td>-0.22</td>\n",
              "      <td>0.50</td>\n",
              "      <td>0.34</td>\n",
              "      <td>-0.02</td>\n",
              "      <td>0.66</td>\n",
              "      <td>0.67</td>\n",
              "      <td>0.74</td>\n",
              "      <td>0.66</td>\n",
              "    </tr>\n",
              "    <tr>\n",
              "      <th>PER</th>\n",
              "      <td>0.67</td>\n",
              "      <td>0.10</td>\n",
              "      <td>0.22</td>\n",
              "      <td>0.54</td>\n",
              "      <td>1.00</td>\n",
              "      <td>0.50</td>\n",
              "      <td>0.12</td>\n",
              "      <td>0.33</td>\n",
              "      <td>0.27</td>\n",
              "      <td>0.37</td>\n",
              "      <td>0.15</td>\n",
              "      <td>0.10</td>\n",
              "      <td>-0.20</td>\n",
              "      <td>0.75</td>\n",
              "      <td>0.59</td>\n",
              "      <td>-0.30</td>\n",
              "      <td>0.83</td>\n",
              "      <td>0.59</td>\n",
              "      <td>0.84</td>\n",
              "      <td>0.58</td>\n",
              "    </tr>\n",
              "    <tr>\n",
              "      <th>TS</th>\n",
              "      <td>0.21</td>\n",
              "      <td>0.23</td>\n",
              "      <td>0.22</td>\n",
              "      <td>0.24</td>\n",
              "      <td>0.50</td>\n",
              "      <td>1.00</td>\n",
              "      <td>0.05</td>\n",
              "      <td>0.00</td>\n",
              "      <td>0.03</td>\n",
              "      <td>-0.02</td>\n",
              "      <td>0.04</td>\n",
              "      <td>0.14</td>\n",
              "      <td>-0.03</td>\n",
              "      <td>0.03</td>\n",
              "      <td>0.86</td>\n",
              "      <td>-0.10</td>\n",
              "      <td>0.61</td>\n",
              "      <td>0.22</td>\n",
              "      <td>0.54</td>\n",
              "      <td>0.12</td>\n",
              "    </tr>\n",
              "    <tr>\n",
              "      <th>ORB</th>\n",
              "      <td>-0.04</td>\n",
              "      <td>-0.08</td>\n",
              "      <td>-0.04</td>\n",
              "      <td>-0.28</td>\n",
              "      <td>0.12</td>\n",
              "      <td>0.05</td>\n",
              "      <td>1.00</td>\n",
              "      <td>0.75</td>\n",
              "      <td>0.90</td>\n",
              "      <td>-0.50</td>\n",
              "      <td>-0.35</td>\n",
              "      <td>0.64</td>\n",
              "      <td>0.12</td>\n",
              "      <td>-0.17</td>\n",
              "      <td>0.09</td>\n",
              "      <td>-0.48</td>\n",
              "      <td>-0.09</td>\n",
              "      <td>0.12</td>\n",
              "      <td>-0.03</td>\n",
              "      <td>-0.08</td>\n",
              "    </tr>\n",
              "    <tr>\n",
              "      <th>DRB</th>\n",
              "      <td>0.17</td>\n",
              "      <td>0.05</td>\n",
              "      <td>-0.07</td>\n",
              "      <td>-0.13</td>\n",
              "      <td>0.33</td>\n",
              "      <td>0.00</td>\n",
              "      <td>0.75</td>\n",
              "      <td>1.00</td>\n",
              "      <td>0.96</td>\n",
              "      <td>-0.38</td>\n",
              "      <td>-0.33</td>\n",
              "      <td>0.60</td>\n",
              "      <td>-0.03</td>\n",
              "      <td>0.11</td>\n",
              "      <td>-0.01</td>\n",
              "      <td>-0.57</td>\n",
              "      <td>0.06</td>\n",
              "      <td>0.30</td>\n",
              "      <td>0.14</td>\n",
              "      <td>0.10</td>\n",
              "    </tr>\n",
              "    <tr>\n",
              "      <th>TRB</th>\n",
              "      <td>0.10</td>\n",
              "      <td>0.01</td>\n",
              "      <td>-0.06</td>\n",
              "      <td>-0.20</td>\n",
              "      <td>0.27</td>\n",
              "      <td>0.03</td>\n",
              "      <td>0.90</td>\n",
              "      <td>0.96</td>\n",
              "      <td>1.00</td>\n",
              "      <td>-0.46</td>\n",
              "      <td>-0.36</td>\n",
              "      <td>0.66</td>\n",
              "      <td>0.03</td>\n",
              "      <td>0.01</td>\n",
              "      <td>0.04</td>\n",
              "      <td>-0.58</td>\n",
              "      <td>0.01</td>\n",
              "      <td>0.25</td>\n",
              "      <td>0.09</td>\n",
              "      <td>0.03</td>\n",
              "    </tr>\n",
              "    <tr>\n",
              "      <th>AST</th>\n",
              "      <td>0.31</td>\n",
              "      <td>0.09</td>\n",
              "      <td>0.05</td>\n",
              "      <td>0.40</td>\n",
              "      <td>0.37</td>\n",
              "      <td>-0.02</td>\n",
              "      <td>-0.50</td>\n",
              "      <td>-0.38</td>\n",
              "      <td>-0.46</td>\n",
              "      <td>1.00</td>\n",
              "      <td>0.45</td>\n",
              "      <td>-0.45</td>\n",
              "      <td>0.35</td>\n",
              "      <td>0.42</td>\n",
              "      <td>0.10</td>\n",
              "      <td>0.14</td>\n",
              "      <td>0.36</td>\n",
              "      <td>0.21</td>\n",
              "      <td>0.35</td>\n",
              "      <td>0.31</td>\n",
              "    </tr>\n",
              "    <tr>\n",
              "      <th>STL</th>\n",
              "      <td>0.17</td>\n",
              "      <td>-0.01</td>\n",
              "      <td>-0.01</td>\n",
              "      <td>0.20</td>\n",
              "      <td>0.15</td>\n",
              "      <td>0.04</td>\n",
              "      <td>-0.35</td>\n",
              "      <td>-0.33</td>\n",
              "      <td>-0.36</td>\n",
              "      <td>0.45</td>\n",
              "      <td>1.00</td>\n",
              "      <td>-0.30</td>\n",
              "      <td>0.25</td>\n",
              "      <td>0.04</td>\n",
              "      <td>0.06</td>\n",
              "      <td>-0.08</td>\n",
              "      <td>0.12</td>\n",
              "      <td>0.21</td>\n",
              "      <td>0.17</td>\n",
              "      <td>0.17</td>\n",
              "    </tr>\n",
              "    <tr>\n",
              "      <th>BLK</th>\n",
              "      <td>-0.04</td>\n",
              "      <td>-0.03</td>\n",
              "      <td>-0.10</td>\n",
              "      <td>-0.23</td>\n",
              "      <td>0.10</td>\n",
              "      <td>0.14</td>\n",
              "      <td>0.64</td>\n",
              "      <td>0.60</td>\n",
              "      <td>0.66</td>\n",
              "      <td>-0.45</td>\n",
              "      <td>-0.30</td>\n",
              "      <td>1.00</td>\n",
              "      <td>0.12</td>\n",
              "      <td>-0.19</td>\n",
              "      <td>0.03</td>\n",
              "      <td>-0.49</td>\n",
              "      <td>-0.12</td>\n",
              "      <td>0.15</td>\n",
              "      <td>-0.04</td>\n",
              "      <td>-0.13</td>\n",
              "    </tr>\n",
              "    <tr>\n",
              "      <th>TOV</th>\n",
              "      <td>-0.13</td>\n",
              "      <td>0.07</td>\n",
              "      <td>-0.17</td>\n",
              "      <td>-0.22</td>\n",
              "      <td>-0.20</td>\n",
              "      <td>-0.03</td>\n",
              "      <td>0.12</td>\n",
              "      <td>-0.03</td>\n",
              "      <td>0.03</td>\n",
              "      <td>0.35</td>\n",
              "      <td>0.25</td>\n",
              "      <td>0.12</td>\n",
              "      <td>1.00</td>\n",
              "      <td>-0.32</td>\n",
              "      <td>-0.22</td>\n",
              "      <td>-0.11</td>\n",
              "      <td>-0.21</td>\n",
              "      <td>-0.06</td>\n",
              "      <td>-0.19</td>\n",
              "      <td>-0.21</td>\n",
              "    </tr>\n",
              "    <tr>\n",
              "      <th>USG</th>\n",
              "      <td>0.62</td>\n",
              "      <td>0.03</td>\n",
              "      <td>0.14</td>\n",
              "      <td>0.50</td>\n",
              "      <td>0.75</td>\n",
              "      <td>0.03</td>\n",
              "      <td>-0.17</td>\n",
              "      <td>0.11</td>\n",
              "      <td>0.01</td>\n",
              "      <td>0.42</td>\n",
              "      <td>0.04</td>\n",
              "      <td>-0.19</td>\n",
              "      <td>-0.32</td>\n",
              "      <td>1.00</td>\n",
              "      <td>0.08</td>\n",
              "      <td>-0.07</td>\n",
              "      <td>0.53</td>\n",
              "      <td>0.40</td>\n",
              "      <td>0.55</td>\n",
              "      <td>0.56</td>\n",
              "    </tr>\n",
              "    <tr>\n",
              "      <th>ORtg</th>\n",
              "      <td>0.25</td>\n",
              "      <td>0.17</td>\n",
              "      <td>0.28</td>\n",
              "      <td>0.34</td>\n",
              "      <td>0.59</td>\n",
              "      <td>0.86</td>\n",
              "      <td>0.09</td>\n",
              "      <td>-0.01</td>\n",
              "      <td>0.04</td>\n",
              "      <td>0.10</td>\n",
              "      <td>0.06</td>\n",
              "      <td>0.03</td>\n",
              "      <td>-0.22</td>\n",
              "      <td>0.08</td>\n",
              "      <td>1.00</td>\n",
              "      <td>-0.06</td>\n",
              "      <td>0.73</td>\n",
              "      <td>0.27</td>\n",
              "      <td>0.65</td>\n",
              "      <td>0.23</td>\n",
              "    </tr>\n",
              "    <tr>\n",
              "      <th>DRtg</th>\n",
              "      <td>-0.27</td>\n",
              "      <td>-0.12</td>\n",
              "      <td>-0.11</td>\n",
              "      <td>-0.02</td>\n",
              "      <td>-0.30</td>\n",
              "      <td>-0.10</td>\n",
              "      <td>-0.48</td>\n",
              "      <td>-0.57</td>\n",
              "      <td>-0.58</td>\n",
              "      <td>0.14</td>\n",
              "      <td>-0.08</td>\n",
              "      <td>-0.49</td>\n",
              "      <td>-0.11</td>\n",
              "      <td>-0.07</td>\n",
              "      <td>-0.06</td>\n",
              "      <td>1.00</td>\n",
              "      <td>-0.10</td>\n",
              "      <td>-0.72</td>\n",
              "      <td>-0.33</td>\n",
              "      <td>-0.19</td>\n",
              "    </tr>\n",
              "    <tr>\n",
              "      <th>OWS</th>\n",
              "      <td>0.60</td>\n",
              "      <td>0.04</td>\n",
              "      <td>0.39</td>\n",
              "      <td>0.66</td>\n",
              "      <td>0.83</td>\n",
              "      <td>0.61</td>\n",
              "      <td>-0.09</td>\n",
              "      <td>0.06</td>\n",
              "      <td>0.01</td>\n",
              "      <td>0.36</td>\n",
              "      <td>0.12</td>\n",
              "      <td>-0.12</td>\n",
              "      <td>-0.21</td>\n",
              "      <td>0.53</td>\n",
              "      <td>0.73</td>\n",
              "      <td>-0.10</td>\n",
              "      <td>1.00</td>\n",
              "      <td>0.52</td>\n",
              "      <td>0.96</td>\n",
              "      <td>0.52</td>\n",
              "    </tr>\n",
              "    <tr>\n",
              "      <th>DWS</th>\n",
              "      <td>0.63</td>\n",
              "      <td>0.08</td>\n",
              "      <td>0.49</td>\n",
              "      <td>0.67</td>\n",
              "      <td>0.59</td>\n",
              "      <td>0.22</td>\n",
              "      <td>0.12</td>\n",
              "      <td>0.30</td>\n",
              "      <td>0.25</td>\n",
              "      <td>0.21</td>\n",
              "      <td>0.21</td>\n",
              "      <td>0.15</td>\n",
              "      <td>-0.06</td>\n",
              "      <td>0.40</td>\n",
              "      <td>0.27</td>\n",
              "      <td>-0.72</td>\n",
              "      <td>0.52</td>\n",
              "      <td>1.00</td>\n",
              "      <td>0.75</td>\n",
              "      <td>0.58</td>\n",
              "    </tr>\n",
              "    <tr>\n",
              "      <th>WS</th>\n",
              "      <td>0.68</td>\n",
              "      <td>0.06</td>\n",
              "      <td>0.47</td>\n",
              "      <td>0.74</td>\n",
              "      <td>0.84</td>\n",
              "      <td>0.54</td>\n",
              "      <td>-0.03</td>\n",
              "      <td>0.14</td>\n",
              "      <td>0.09</td>\n",
              "      <td>0.35</td>\n",
              "      <td>0.17</td>\n",
              "      <td>-0.04</td>\n",
              "      <td>-0.19</td>\n",
              "      <td>0.55</td>\n",
              "      <td>0.65</td>\n",
              "      <td>-0.33</td>\n",
              "      <td>0.96</td>\n",
              "      <td>0.75</td>\n",
              "      <td>1.00</td>\n",
              "      <td>0.61</td>\n",
              "    </tr>\n",
              "    <tr>\n",
              "      <th>log_salary</th>\n",
              "      <td>0.89</td>\n",
              "      <td>0.09</td>\n",
              "      <td>0.28</td>\n",
              "      <td>0.66</td>\n",
              "      <td>0.58</td>\n",
              "      <td>0.12</td>\n",
              "      <td>-0.08</td>\n",
              "      <td>0.10</td>\n",
              "      <td>0.03</td>\n",
              "      <td>0.31</td>\n",
              "      <td>0.17</td>\n",
              "      <td>-0.13</td>\n",
              "      <td>-0.21</td>\n",
              "      <td>0.56</td>\n",
              "      <td>0.23</td>\n",
              "      <td>-0.19</td>\n",
              "      <td>0.52</td>\n",
              "      <td>0.58</td>\n",
              "      <td>0.61</td>\n",
              "      <td>1.00</td>\n",
              "    </tr>\n",
              "  </tbody>\n",
              "</table>\n",
              "</div>"
            ],
            "text/plain": [
              "            SALARY   Age  Games  Minutes  ...   OWS   DWS    WS  log_salary\n",
              "SALARY        1.00  0.05   0.21     0.62  ...  0.60  0.63  0.68        0.89\n",
              "Age           0.05  1.00  -0.13    -0.01  ...  0.04  0.08  0.06        0.09\n",
              "Games         0.21 -0.13   1.00     0.70  ...  0.39  0.49  0.47        0.28\n",
              "Minutes       0.62 -0.01   0.70     1.00  ...  0.66  0.67  0.74        0.66\n",
              "PER           0.67  0.10   0.22     0.54  ...  0.83  0.59  0.84        0.58\n",
              "TS            0.21  0.23   0.22     0.24  ...  0.61  0.22  0.54        0.12\n",
              "ORB          -0.04 -0.08  -0.04    -0.28  ... -0.09  0.12 -0.03       -0.08\n",
              "DRB           0.17  0.05  -0.07    -0.13  ...  0.06  0.30  0.14        0.10\n",
              "TRB           0.10  0.01  -0.06    -0.20  ...  0.01  0.25  0.09        0.03\n",
              "AST           0.31  0.09   0.05     0.40  ...  0.36  0.21  0.35        0.31\n",
              "STL           0.17 -0.01  -0.01     0.20  ...  0.12  0.21  0.17        0.17\n",
              "BLK          -0.04 -0.03  -0.10    -0.23  ... -0.12  0.15 -0.04       -0.13\n",
              "TOV          -0.13  0.07  -0.17    -0.22  ... -0.21 -0.06 -0.19       -0.21\n",
              "USG           0.62  0.03   0.14     0.50  ...  0.53  0.40  0.55        0.56\n",
              "ORtg          0.25  0.17   0.28     0.34  ...  0.73  0.27  0.65        0.23\n",
              "DRtg         -0.27 -0.12  -0.11    -0.02  ... -0.10 -0.72 -0.33       -0.19\n",
              "OWS           0.60  0.04   0.39     0.66  ...  1.00  0.52  0.96        0.52\n",
              "DWS           0.63  0.08   0.49     0.67  ...  0.52  1.00  0.75        0.58\n",
              "WS            0.68  0.06   0.47     0.74  ...  0.96  0.75  1.00        0.61\n",
              "log_salary    0.89  0.09   0.28     0.66  ...  0.52  0.58  0.61        1.00\n",
              "\n",
              "[20 rows x 20 columns]"
            ]
          },
          "metadata": {},
          "execution_count": 9
        }
      ]
    },
    {
      "cell_type": "markdown",
      "metadata": {
        "id": "bHeajSvHBioH"
      },
      "source": [
        "From pairwise correlation table, there are only 6 variables that most correlated with log_salary:\n",
        "- Offensive win shares (OWS) = 0.52\n",
        "- Minutes played (Minutes) = 0.66\n",
        "- Usage percentage (USG) = 0.56\n",
        "- (DWS) = 0.58\n",
        "- Personal efficiency rating (PER) = 0.58\n",
        "- Win shares (WS) = 0.61"
      ]
    },
    {
      "cell_type": "code",
      "metadata": {
        "colab": {
          "base_uri": "https://localhost:8080/",
          "height": 352
        },
        "id": "Zl_t7QSoBjM3",
        "outputId": "596d8ff4-0a88-454e-a78b-8ba07ef20cb3"
      },
      "source": [
        "# Pairwise correlation matrix\n",
        "\n",
        "heat_map = sns.heatmap(nba_train.corr(),cmap=\"YlGnBu\")\n",
        "heat_map.set_title('Correlation matrix', fontweight='bold', fontsize=20)"
      ],
      "execution_count": null,
      "outputs": [
        {
          "output_type": "execute_result",
          "data": {
            "text/plain": [
              "Text(0.5, 1.0, 'Correlation matrix')"
            ]
          },
          "metadata": {},
          "execution_count": 10
        },
        {
          "output_type": "display_data",
          "data": {
            "image/png": "[encoded data removed]",
            "text/plain": [
              "<Figure size 432x288 with 2 Axes>"
            ]
          },
          "metadata": {
            "needs_background": "light"
          }
        }
      ]
    },
    {
      "cell_type": "markdown",
      "metadata": {
        "id": "E1nPsZlyBEMN"
      },
      "source": [
        "From correlation matrix, we can further observe:\n",
        "- Multicollinearity might be a major problem in multiple linear regression if both OWS and WS are regressors since they have perfect collinearity = 1.\n",
        "- Ommited variable bias (OVB) might also be a problem in the eventual linear regression. For example, if PER is a determinant of Salary, it can cause significant bias since it has a strong, positive correlation with ORtg if ORtg is included in the model as explanatory variable while PER is not."
      ]
    },
    {
      "cell_type": "code",
      "metadata": {
        "colab": {
          "base_uri": "https://localhost:8080/",
          "height": 1000
        },
        "id": "s1ABrrIXBqAX",
        "outputId": "7293228f-1400-4f94-ddc0-d4b6f5981b1e"
      },
      "source": [
        "# Pairwise correlation plot of the top 5 most correlated variables with log_salary\n",
        "\n",
        "# Salary vs. OWS\n",
        "sns.jointplot(x='OWS',y='log_salary', data=nba_train, kind=\"reg\", truncate=False)\n",
        "\n",
        "# Salary vs. Minutes\n",
        "sns.jointplot(x='Minutes',y='log_salary', data=nba_train, kind=\"reg\", truncate=False)\n",
        "\n",
        "# Salary vs. USG\n",
        "sns.jointplot(x='USG',y='log_salary', data=nba_train, kind=\"reg\", truncate=False)\n",
        "\n",
        "# Salary vs. PER\n",
        "sns.jointplot(x='PER',y='log_salary', data=nba_train, kind=\"reg\", truncate=False)\n",
        "\n",
        "# Salary vs. DWS\n",
        "sns.jointplot(x='DWS',y='log_salary', data=nba_train, kind=\"reg\", truncate=False)\n",
        "\n",
        "# Salary vs. WS\n",
        "sns.jointplot(x='WS',y='log_salary', data=nba_train, kind=\"reg\", truncate=False)\n",
        "\n",
        "plt.show()"
      ],
      "execution_count": null,
      "outputs": [
        {
          "output_type": "display_data",
          "data": {
            "image/png": "[encoded data removed]",
            "text/plain": [
              "<Figure size 432x432 with 3 Axes>"
            ]
          },
          "metadata": {
            "needs_background": "light"
          }
        },
        {
          "output_type": "display_data",
          "data": {
            "image/png": "[encoded data removed]",
            "text/plain": [
              "<Figure size 432x432 with 3 Axes>"
            ]
          },
          "metadata": {
            "needs_background": "light"
          }
        },
        {
          "output_type": "display_data",
          "data": {
            "image/png": "[encoded data removed]",
            "text/plain": [
              "<Figure size 432x432 with 3 Axes>"
            ]
          },
          "metadata": {
            "needs_background": "light"
          }
        },
        {
          "output_type": "display_data",
          "data": {
            "image/png": "[encoded data removed]",
            "text/plain": [
              "<Figure size 432x432 with 3 Axes>"
            ]
          },
          "metadata": {
            "needs_background": "light"
          }
        },
        {
          "output_type": "display_data",
          "data": {
            "image/png": "[encoded data removed]",
            "text/plain": [
              "<Figure size 432x432 with 3 Axes>"
            ]
          },
          "metadata": {
            "needs_background": "light"
          }
        },
        {
          "output_type": "display_data",
          "data": {
            "image/png": "[encoded data removed]",
            "text/plain": [
              "<Figure size 432x432 with 3 Axes>"
            ]
          },
          "metadata": {
            "needs_background": "light"
          }
        }
      ]
    },
    {
      "cell_type": "code",
      "metadata": {
        "colab": {
          "base_uri": "https://localhost:8080/"
        },
        "id": "MSzCGqtgX0p0",
        "outputId": "7f4de067-cf5b-4baf-b707-5e9ac5977200"
      },
      "source": [
        "# Coefficient of Variation (CV) of the top 6 correlated variables\n",
        "\n",
        "print('SALARY_CV:', np.std(nba_train['SALARY'])/np.mean(nba_train['SALARY'])) #SALARY\n",
        "print('log_salary_CV:', np.std(nba_train['log_salary'])/np.mean(nba_train['log_salary'])) #log_salary\n",
        "print('OWS_CV:', np.std(nba_train['OWS'])/np.mean(nba_train['OWS'])) #OWS\n",
        "print('Minutes_CV:',np.std(nba_train['Minutes'])/np.mean(nba_train['Minutes'])) #Minutes\n",
        "print('USG_CV:',np.std(nba_train['USG'])/np.mean(nba_train['USG'])) #USG\n",
        "print('PER_CV:',np.std(nba_train['PER'])/np.mean(nba_train['PER'])) #PER\n",
        "print('WS_CV:',np.std(nba_train['WS'])/np.mean(nba_train['WS'])) #WS\n",
        "print('DWS_CV:',np.std(nba_train['DWS'])/np.mean(nba_train['DWS'])) #DWS\n"
      ],
      "execution_count": null,
      "outputs": [
        {
          "output_type": "stream",
          "name": "stdout",
          "text": [
            "SALARY_CV: 0.8292037663816889\n",
            "log_salary_CV: 0.596863153348627\n",
            "OWS_CV: 1.1248064706778393\n",
            "Minutes_CV: 0.3873730734414159\n",
            "USG_CV: 0.24724572278081997\n",
            "PER_CV: 0.2866289604694852\n",
            "WS_CV: 0.810321155183406\n",
            "DWS_CV: 0.6381513966314165\n"
          ]
        }
      ]
    },
    {
      "cell_type": "markdown",
      "metadata": {
        "id": "y08D1DqIDEKc"
      },
      "source": [
        "# Module 1: MLR regression\n",
        "\n",
        "**With Backward selection**"
      ]
    },
    {
      "cell_type": "code",
      "metadata": {
        "colab": {
          "base_uri": "https://localhost:8080/"
        },
        "id": "JlZno6KgDR8o",
        "outputId": "dc3ffd4f-61ff-4cbe-e2ec-b05b28dcbf7d"
      },
      "source": [
        "import statsmodels.formula.api as smf\n",
        "\n",
        "def backward_selected(data, response, nominated = []):\n",
        "    \"\"\"Linear model designed by backward selection.\n",
        "\n",
        "    Parameters:\n",
        "    -----------\n",
        "    data : pandas DataFrame with all possible predictors and response\n",
        "\n",
        "    response: string, name of response column in data\n",
        "\n",
        "    Returns:\n",
        "    --------\n",
        "    model: an \"optimal\" fitted statsmodels linear model\n",
        "           with an intercept\n",
        "           selected by backward selection\n",
        "           evaluated by adjusted R-squared\n",
        "    \"\"\"\n",
        "    remaining = set(data.columns)\n",
        "    remaining.remove(response)\n",
        "    if nominated:\n",
        "        print(\"you nominated variables %s\" %nominated)\n",
        "    nominated = set(nominated)\n",
        "    remaining^=nominated\n",
        "    formula = \"{} ~ {} + 1\".format(response,' + '.join(remaining | nominated))\n",
        "    current_score = smf.ols(formula, data).fit().rsquared_adj\n",
        "    print(\"adj_r2 if all variables included: %f\" %current_score)\n",
        "    best_new_score = current_score\n",
        "    while remaining and current_score == best_new_score:\n",
        "        scores_with_candidates = []\n",
        "        for candidate in remaining:\n",
        "            formula = \"{} ~ {} + 1\".format(response,\n",
        "                                           ' + '.join(remaining^{candidate}|nominated))\n",
        "            score = smf.ols(formula, data).fit().rsquared_adj\n",
        "            scores_with_candidates.append((score, candidate))\n",
        "        scores_with_candidates.sort()\n",
        "        best_new_score, best_candidate = scores_with_candidates.pop()\n",
        "        if current_score < best_new_score:\n",
        "            print(\"deleting %s increases adj_r2 from %f to %f\" %(best_candidate, current_score, best_new_score))\n",
        "            remaining.remove(best_candidate)\n",
        "            current_score = best_new_score\n",
        "    formula = \"{} ~ {} + 1\".format(response,\n",
        "                                   ' + '.join(remaining|nominated))\n",
        "    model = smf.ols(formula, data).fit()\n",
        "    print(\"final model is %s, with adj_r2 of %f\" %(formula, model.rsquared_adj))\n",
        "    return model"
      ],
      "execution_count": null,
      "outputs": [
        {
          "output_type": "stream",
          "name": "stderr",
          "text": [
            "/usr/local/lib/python3.7/dist-packages/statsmodels/tools/_testing.py:19: FutureWarning: pandas.util.testing is deprecated. Use the functions in the public API at pandas.testing instead.\n",
            "  import pandas.util.testing as tm\n"
          ]
        }
      ]
    },
    {
      "cell_type": "code",
      "metadata": {
        "colab": {
          "base_uri": "https://localhost:8080/"
        },
        "id": "q1Q4iYe6EXEK",
        "outputId": "1d22a37d-c027-4324-df7a-a25ac3b55d1c"
      },
      "source": [
        "model_bs1 = backward_selected(nba_train[['log_salary','Age','Games','Minutes','PER','TS','ORB','DRB','TRB','AST','STL','BLK','TOV','USG','ORtg','DRtg','OWS','DWS','WS']],'log_salary')\n",
        "                                "
      ],
      "execution_count": null,
      "outputs": [
        {
          "output_type": "stream",
          "name": "stdout",
          "text": [
            "adj_r2 if all variables included: 0.539414\n",
            "deleting STL increases adj_r2 from 0.539414 to 0.543619\n",
            "deleting DRB increases adj_r2 from 0.543619 to 0.547614\n",
            "deleting ORB increases adj_r2 from 0.547614 to 0.551369\n",
            "deleting TRB increases adj_r2 from 0.551369 to 0.554979\n",
            "deleting Age increases adj_r2 from 0.554979 to 0.557282\n",
            "deleting TOV increases adj_r2 from 0.557282 to 0.558803\n",
            "deleting USG increases adj_r2 from 0.558803 to 0.561729\n",
            "deleting ORtg increases adj_r2 from 0.561729 to 0.564586\n",
            "final model is log_salary ~ AST + PER + OWS + Minutes + Games + BLK + TS + DRtg + WS + DWS + 1, with adj_r2 of 0.564586\n"
          ]
        }
      ]
    },
    {
      "cell_type": "code",
      "metadata": {
        "colab": {
          "base_uri": "https://localhost:8080/",
          "height": 670
        },
        "id": "IPlVSKE5EqJt",
        "outputId": "d0748600-9623-4337-c68e-e5200f303955"
      },
      "source": [
        "import statsmodels.formula.api as smf\n",
        "\n",
        "formula1 = 'log_salary ~ BLK + TS + Minutes + WS + OWS + DWS + Games + AST + DRtg + PER'\n",
        "\n",
        "model1_formula = smf.ols(formula = formula1, data = nba_train)\n",
        "\n",
        "model_1 = model1_formula.fit()\n",
        "\n",
        "residuals1 = model_1.resid\n",
        "fitted1 = model_1.fittedvalues\n",
        "\n",
        "model_1.summary()"
      ],
      "execution_count": null,
      "outputs": [
        {
          "output_type": "execute_result",
          "data": {
            "text/html": [
              "<table class=\"simpletable\">\n",
              "<caption>OLS Regression Results</caption>\n",
              "<tr>\n",
              "  <th>Dep. Variable:</th>       <td>log_salary</td>    <th>  R-squared:         </th> <td>   0.599</td>\n",
              "</tr>\n",
              "<tr>\n",
              "  <th>Model:</th>                   <td>OLS</td>       <th>  Adj. R-squared:    </th> <td>   0.565</td>\n",
              "</tr>\n",
              "<tr>\n",
              "  <th>Method:</th>             <td>Least Squares</td>  <th>  F-statistic:       </th> <td>   17.21</td>\n",
              "</tr>\n",
              "<tr>\n",
              "  <th>Date:</th>             <td>Wed, 29 Sep 2021</td> <th>  Prob (F-statistic):</th> <td>1.04e-18</td>\n",
              "</tr>\n",
              "<tr>\n",
              "  <th>Time:</th>                 <td>12:31:24</td>     <th>  Log-Likelihood:    </th> <td> -111.06</td>\n",
              "</tr>\n",
              "<tr>\n",
              "  <th>No. Observations:</th>      <td>   126</td>      <th>  AIC:               </th> <td>   244.1</td>\n",
              "</tr>\n",
              "<tr>\n",
              "  <th>Df Residuals:</th>          <td>   115</td>      <th>  BIC:               </th> <td>   275.3</td>\n",
              "</tr>\n",
              "<tr>\n",
              "  <th>Df Model:</th>              <td>    10</td>      <th>                     </th>     <td> </td>   \n",
              "</tr>\n",
              "<tr>\n",
              "  <th>Covariance Type:</th>      <td>nonrobust</td>    <th>                     </th>     <td> </td>   \n",
              "</tr>\n",
              "</table>\n",
              "<table class=\"simpletable\">\n",
              "<tr>\n",
              "      <td></td>         <th>coef</th>     <th>std err</th>      <th>t</th>      <th>P>|t|</th>  <th>[0.025</th>    <th>0.975]</th>  \n",
              "</tr>\n",
              "<tr>\n",
              "  <th>Intercept</th> <td>    8.7122</td> <td>    5.721</td> <td>    1.523</td> <td> 0.131</td> <td>   -2.620</td> <td>   20.045</td>\n",
              "</tr>\n",
              "<tr>\n",
              "  <th>BLK</th>       <td>   -0.1215</td> <td>    0.057</td> <td>   -2.122</td> <td> 0.036</td> <td>   -0.235</td> <td>   -0.008</td>\n",
              "</tr>\n",
              "<tr>\n",
              "  <th>TS</th>        <td>   -2.9626</td> <td>    1.677</td> <td>   -1.767</td> <td> 0.080</td> <td>   -6.283</td> <td>    0.358</td>\n",
              "</tr>\n",
              "<tr>\n",
              "  <th>Minutes</th>   <td>    0.0011</td> <td>    0.000</td> <td>    3.955</td> <td> 0.000</td> <td>    0.001</td> <td>    0.002</td>\n",
              "</tr>\n",
              "<tr>\n",
              "  <th>WS</th>        <td>   -1.3564</td> <td>    1.087</td> <td>   -1.248</td> <td> 0.215</td> <td>   -3.510</td> <td>    0.797</td>\n",
              "</tr>\n",
              "<tr>\n",
              "  <th>OWS</th>       <td>    1.3261</td> <td>    1.091</td> <td>    1.216</td> <td> 0.227</td> <td>   -0.834</td> <td>    3.487</td>\n",
              "</tr>\n",
              "<tr>\n",
              "  <th>DWS</th>       <td>    1.2780</td> <td>    1.076</td> <td>    1.188</td> <td> 0.237</td> <td>   -0.853</td> <td>    3.409</td>\n",
              "</tr>\n",
              "<tr>\n",
              "  <th>Games</th>     <td>   -0.0238</td> <td>    0.008</td> <td>   -3.079</td> <td> 0.003</td> <td>   -0.039</td> <td>   -0.008</td>\n",
              "</tr>\n",
              "<tr>\n",
              "  <th>AST</th>       <td>   -0.0141</td> <td>    0.007</td> <td>   -1.885</td> <td> 0.062</td> <td>   -0.029</td> <td>    0.001</td>\n",
              "</tr>\n",
              "<tr>\n",
              "  <th>DRtg</th>      <td>   -0.0609</td> <td>    0.051</td> <td>   -1.185</td> <td> 0.239</td> <td>   -0.163</td> <td>    0.041</td>\n",
              "</tr>\n",
              "<tr>\n",
              "  <th>PER</th>       <td>    0.0858</td> <td>    0.028</td> <td>    3.085</td> <td> 0.003</td> <td>    0.031</td> <td>    0.141</td>\n",
              "</tr>\n",
              "</table>\n",
              "<table class=\"simpletable\">\n",
              "<tr>\n",
              "  <th>Omnibus:</th>       <td> 5.045</td> <th>  Durbin-Watson:     </th> <td>   1.705</td>\n",
              "</tr>\n",
              "<tr>\n",
              "  <th>Prob(Omnibus):</th> <td> 0.080</td> <th>  Jarque-Bera (JB):  </th> <td>   4.637</td>\n",
              "</tr>\n",
              "<tr>\n",
              "  <th>Skew:</th>          <td>-0.462</td> <th>  Prob(JB):          </th> <td>  0.0984</td>\n",
              "</tr>\n",
              "<tr>\n",
              "  <th>Kurtosis:</th>      <td> 3.176</td> <th>  Cond. No.          </th> <td>2.05e+05</td>\n",
              "</tr>\n",
              "</table><br/><br/>Warnings:<br/>[1] Standard Errors assume that the covariance matrix of the errors is correctly specified.<br/>[2] The condition number is large, 2.05e+05. This might indicate that there are<br/>strong multicollinearity or other numerical problems."
            ],
            "text/plain": [
              "<class 'statsmodels.iolib.summary.Summary'>\n",
              "\"\"\"\n",
              "                            OLS Regression Results                            \n",
              "==============================================================================\n",
              "Dep. Variable:             log_salary   R-squared:                       0.599\n",
              "Model:                            OLS   Adj. R-squared:                  0.565\n",
              "Method:                 Least Squares   F-statistic:                     17.21\n",
              "Date:                Wed, 29 Sep 2021   Prob (F-statistic):           1.04e-18\n",
              "Time:                        12:31:24   Log-Likelihood:                -111.06\n",
              "No. Observations:                 126   AIC:                             244.1\n",
              "Df Residuals:                     115   BIC:                             275.3\n",
              "Df Model:                          10                                         \n",
              "Covariance Type:            nonrobust                                         \n",
              "==============================================================================\n",
              "                 coef    std err          t      P>|t|      [0.025      0.975]\n",
              "------------------------------------------------------------------------------\n",
              "Intercept      8.7122      5.721      1.523      0.131      -2.620      20.045\n",
              "BLK           -0.1215      0.057     -2.122      0.036      -0.235      -0.008\n",
              "TS            -2.9626      1.677     -1.767      0.080      -6.283       0.358\n",
              "Minutes        0.0011      0.000      3.955      0.000       0.001       0.002\n",
              "WS            -1.3564      1.087     -1.248      0.215      -3.510       0.797\n",
              "OWS            1.3261      1.091      1.216      0.227      -0.834       3.487\n",
              "DWS            1.2780      1.076      1.188      0.237      -0.853       3.409\n",
              "Games         -0.0238      0.008     -3.079      0.003      -0.039      -0.008\n",
              "AST           -0.0141      0.007     -1.885      0.062      -0.029       0.001\n",
              "DRtg          -0.0609      0.051     -1.185      0.239      -0.163       0.041\n",
              "PER            0.0858      0.028      3.085      0.003       0.031       0.141\n",
              "==============================================================================\n",
              "Omnibus:                        5.045   Durbin-Watson:                   1.705\n",
              "Prob(Omnibus):                  0.080   Jarque-Bera (JB):                4.637\n",
              "Skew:                          -0.462   Prob(JB):                       0.0984\n",
              "Kurtosis:                       3.176   Cond. No.                     2.05e+05\n",
              "==============================================================================\n",
              "\n",
              "Warnings:\n",
              "[1] Standard Errors assume that the covariance matrix of the errors is correctly specified.\n",
              "[2] The condition number is large, 2.05e+05. This might indicate that there are\n",
              "strong multicollinearity or other numerical problems.\n",
              "\"\"\""
            ]
          },
          "metadata": {},
          "execution_count": 15
        }
      ]
    },
    {
      "cell_type": "code",
      "metadata": {
        "colab": {
          "base_uri": "https://localhost:8080/",
          "height": 373
        },
        "id": "V4I9Wju4FHNQ",
        "outputId": "386ab08f-eecb-4108-bc7c-907cffc3ed24"
      },
      "source": [
        "fig, ax= plt.subplots()\n",
        "sns.regplot(fitted1, residuals1, lowess=True, ax=ax, scatter_kws={'s': 35, 'alpha': .6})\n",
        "ax.set_xlabel('Fitted values',  {'fontsize': 12})\n",
        "ax.set_ylabel('Residuals', {'fontsize': 12})\n",
        "ax.set_title('Model 1: Fitted against residuals')\n",
        "plt.axhline(color='Black', alpha=0.3, linestyle='--')  \n",
        "#plt.show()"
      ],
      "execution_count": null,
      "outputs": [
        {
          "output_type": "stream",
          "name": "stderr",
          "text": [
            "/usr/local/lib/python3.7/dist-packages/seaborn/_decorators.py:43: FutureWarning: Pass the following variables as keyword args: x, y. From version 0.12, the only valid positional argument will be `data`, and passing other arguments without an explicit keyword will result in an error or misinterpretation.\n",
            "  FutureWarning\n"
          ]
        },
        {
          "output_type": "execute_result",
          "data": {
            "text/plain": [
              "<matplotlib.lines.Line2D at 0x7f2b35cbd3d0>"
            ]
          },
          "metadata": {},
          "execution_count": 16
        },
        {
          "output_type": "display_data",
          "data": {
            "image/png": "[encoded data removed]",
            "text/plain": [
              "<Figure size 432x288 with 1 Axes>"
            ]
          },
          "metadata": {
            "needs_background": "light"
          }
        }
      ]
    },
    {
      "cell_type": "markdown",
      "metadata": {
        "id": "9jb8mgrR-EdS"
      },
      "source": [
        "**Module 1 Evaluation**"
      ]
    },
    {
      "cell_type": "code",
      "metadata": {
        "colab": {
          "base_uri": "https://localhost:8080/"
        },
        "id": "GRy3avwk-D_x",
        "outputId": "8017034b-7847-4a8f-ea9a-dc882d0caa02"
      },
      "source": [
        "# Model 1 - MLR with Backward selection\n",
        "predictions1 = np.exp(model_1.predict(nba_test[['BLK','TS','Minutes','WS','OWS','DWS','Games','AST','DRtg','PER']]))\n",
        "mse1 = mean_squared_error(nba_test['SALARY'], predictions1)\n",
        "rmse1 = np.sqrt(mse1)\n",
        "print('RMSE of Model 1: $', rmse1.round(4), 'millions')"
      ],
      "execution_count": null,
      "outputs": [
        {
          "output_type": "stream",
          "name": "stdout",
          "text": [
            "RMSE of Model 1: $ 4.0324 millions\n"
          ]
        }
      ]
    },
    {
      "cell_type": "code",
      "metadata": {
        "colab": {
          "base_uri": "https://localhost:8080/"
        },
        "id": "UL2Ws6qd7NFd",
        "outputId": "be7b2bd9-ebf2-41c7-d6ad-b1e687c59cbe"
      },
      "source": [
        "import statsmodels.api as sm\n",
        "\n",
        "# VIF of Model 1\n",
        "features1 = nba_train[['BLK','TS','Minutes','WS','OWS','DWS','Games','AST','DRtg','PER']]\n",
        "features1 = sm.add_constant(features1)  \n",
        "\n",
        "from statsmodels.stats.outliers_influence import variance_inflation_factor\n",
        "vif1 = []\n",
        "for i in range(10):\n",
        "    vif1.append(variance_inflation_factor(features1.values, i+1))\n",
        "    \n",
        "vif1"
      ],
      "execution_count": null,
      "outputs": [
        {
          "output_type": "execute_result",
          "data": {
            "text/plain": [
              "[2.0244002423117355,\n",
              " 1.9661708851751953,\n",
              " 12.073823637132483,\n",
              " 4574.755530846118,\n",
              " 2770.292598083162,\n",
              " 537.4669117220856,\n",
              " 2.6090150844422877,\n",
              " 1.8119332087617106,\n",
              " 11.97139757551584,\n",
              " 4.7969326088888735]"
            ]
          },
          "metadata": {},
          "execution_count": 18
        }
      ]
    },
    {
      "cell_type": "code",
      "metadata": {
        "colab": {
          "base_uri": "https://localhost:8080/"
        },
        "id": "uUoz2b407x7V",
        "outputId": "d1e3190a-ab89-48fd-aaf5-1c9dd5abd00e"
      },
      "source": [
        "# Average VIF of Model 1\n",
        "sum(vif1)/10"
      ],
      "execution_count": null,
      "outputs": [
        {
          "output_type": "execute_result",
          "data": {
            "text/plain": [
              "791.9768713893593"
            ]
          },
          "metadata": {},
          "execution_count": 19
        }
      ]
    },
    {
      "cell_type": "code",
      "metadata": {
        "colab": {
          "base_uri": "https://localhost:8080/"
        },
        "id": "DUSnNGJc-FJw",
        "outputId": "f7ee4b0f-78a1-4587-d523-5723c7993fef"
      },
      "source": [
        "# Variance of Model 1\n",
        "variance_model_1 = predictions1.var()\n",
        "print(variance_model_1)"
      ],
      "execution_count": null,
      "outputs": [
        {
          "output_type": "stream",
          "name": "stdout",
          "text": [
            "14.288611642037303\n"
          ]
        }
      ]
    },
    {
      "cell_type": "code",
      "metadata": {
        "colab": {
          "base_uri": "https://localhost:8080/"
        },
        "id": "8-tPIzaEA-wF",
        "outputId": "ec113894-fdf8-4bef-e78c-eb5212924d1d"
      },
      "source": [
        "# Coefficient of Variance of Model 1b output\n",
        "print('Model1_CV:', np.std(predictions1)/np.mean(predictions1))"
      ],
      "execution_count": null,
      "outputs": [
        {
          "output_type": "stream",
          "name": "stdout",
          "text": [
            "Model1_CV: 0.6639496361292879\n"
          ]
        }
      ]
    },
    {
      "cell_type": "markdown",
      "metadata": {
        "id": "asBD6Ff8iosC"
      },
      "source": [
        "**With Forward Selection**"
      ]
    },
    {
      "cell_type": "code",
      "metadata": {
        "id": "27WxOboLiev6"
      },
      "source": [
        "import statsmodels.formula.api as smf\n",
        "\n",
        "def forward_selected(data, response, nominated = []):\n",
        "    \"\"\"Linear model designed by forward selection.\n",
        "\n",
        "    Parameters:\n",
        "    -----------\n",
        "    data : pandas DataFrame with all possible predictors and response\n",
        "\n",
        "    response: string, name of response column in data\n",
        "\n",
        "    Returns:\n",
        "    --------\n",
        "    model: an \"optimal\" fitted statsmodels linear model\n",
        "           with an intercept\n",
        "           selected by forward selection\n",
        "           evaluated by adjusted R-squared\n",
        "    \"\"\"\n",
        "    remaining = set(data.columns)\n",
        "    selected = nominated\n",
        "    remaining.remove(response)\n",
        "    remaining ^= set(selected)\n",
        "    current_score, best_new_score = 0.0, 0.0\n",
        "    if nominated:\n",
        "        formula = \"{} ~ {} + 1\".format(response, ' + '.join(nominated))\n",
        "        current_score= smf.ols(formula, data).fit().rsquared_adj\n",
        "        best_new_score = current_score\n",
        "        print(\"you nominated variable(s) %s, the adj_r2 is: %f\" %(nominated, current_score))\n",
        "    while remaining and current_score == best_new_score:\n",
        "        scores_with_candidates = []\n",
        "        for candidate in remaining:\n",
        "            formula = \"{} ~ {} + 1\".format(response,\n",
        "                                           ' + '.join(selected + [candidate]))\n",
        "            score = smf.ols(formula, data).fit().rsquared_adj\n",
        "            scores_with_candidates.append((score, candidate))\n",
        "        scores_with_candidates.sort()\n",
        "        best_new_score, best_candidate = scores_with_candidates.pop()\n",
        "        if current_score < best_new_score:\n",
        "            print(\"adding %s increases adj_r2 from %f to %f\" %(best_candidate, current_score, best_new_score))\n",
        "            remaining.remove(best_candidate)\n",
        "            selected.append(best_candidate)\n",
        "            current_score = best_new_score\n",
        "    formula = \"{} ~ {} + 1\".format(response,\n",
        "                                   ' + '.join(selected))\n",
        "    model = smf.ols(formula, data).fit()\n",
        "    print(\"final model is %s, with adj_r2 of %f\" %(formula, model.rsquared_adj))\n",
        "    return model"
      ],
      "execution_count": null,
      "outputs": []
    },
    {
      "cell_type": "code",
      "metadata": {
        "colab": {
          "base_uri": "https://localhost:8080/"
        },
        "id": "qC-CAlcyi2du",
        "outputId": "881e7b7e-6231-49c6-d4c5-daaf24514eb3"
      },
      "source": [
        "model_fw1 = forward_selected(nba_train[['log_salary','Age','Games','Minutes','PER','TS','ORB','DRB','TRB','AST','STL','BLK','TOV','USG','ORtg','DRtg','OWS','DWS','WS']],'log_salary')\n",
        "                                "
      ],
      "execution_count": null,
      "outputs": [
        {
          "output_type": "stream",
          "name": "stdout",
          "text": [
            "adding Minutes increases adj_r2 from 0.000000 to 0.429193\n",
            "adding USG increases adj_r2 from 0.429193 to 0.499337\n",
            "adding Games increases adj_r2 from 0.499337 to 0.524961\n",
            "adding DRtg increases adj_r2 from 0.524961 to 0.558186\n",
            "adding ORB increases adj_r2 from 0.558186 to 0.561672\n",
            "adding BLK increases adj_r2 from 0.561672 to 0.566963\n",
            "final model is log_salary ~ Minutes + USG + Games + DRtg + ORB + BLK + 1, with adj_r2 of 0.566963\n"
          ]
        }
      ]
    },
    {
      "cell_type": "code",
      "metadata": {
        "colab": {
          "base_uri": "https://localhost:8080/",
          "height": 1000
        },
        "id": "XjK9lbVLTAP4",
        "outputId": "24705930-3e7f-464b-e137-8d1234df59f5"
      },
      "source": [
        "#Pairwise correlation plot for each chosen independent variable\n",
        "\n",
        "# log_salary vs. Minutes\n",
        "sns.jointplot(x='Minutes',y='log_salary', data=nba_train, kind=\"reg\", truncate=False)\n",
        "\n",
        "# log_salary vs. USG\n",
        "sns.jointplot(x='USG',y='log_salary', data=nba_train, kind=\"reg\", truncate=False)\n",
        "\n",
        "# log_salary vs. Games\n",
        "sns.jointplot(x='Games',y='log_salary', data=nba_train, kind=\"reg\", truncate=False)\n",
        "\n",
        "# log_salary vs. DRtg\n",
        "sns.jointplot(x='DRtg',y='log_salary', data=nba_train, kind=\"reg\", truncate=False)\n",
        "\n",
        "# log_salary vs. ORB\n",
        "sns.jointplot(x='ORB',y='log_salary', data=nba_train, kind=\"reg\", truncate=False)\n",
        "\n",
        "# log_salary vs. BLK\n",
        "sns.jointplot(x='BLK',y='log_salary', data=nba_train, kind=\"reg\", truncate=False)"
      ],
      "execution_count": null,
      "outputs": [
        {
          "output_type": "execute_result",
          "data": {
            "text/plain": [
              "<seaborn.axisgrid.JointGrid at 0x7f2b263bfb50>"
            ]
          },
          "metadata": {},
          "execution_count": 24
        },
        {
          "output_type": "display_data",
          "data": {
            "image/png": "[encoded data removed]",
            "text/plain": [
              "<Figure size 432x432 with 3 Axes>"
            ]
          },
          "metadata": {
            "needs_background": "light"
          }
        },
        {
          "output_type": "display_data",
          "data": {
            "image/png": "[encoded data removed]",
            "text/plain": [
              "<Figure size 432x432 with 3 Axes>"
            ]
          },
          "metadata": {
            "needs_background": "light"
          }
        },
        {
          "output_type": "display_data",
          "data": {
            "image/png": "[encoded data removed]",
            "text/plain": [
              "<Figure size 432x432 with 3 Axes>"
            ]
          },
          "metadata": {
            "needs_background": "light"
          }
        },
        {
          "output_type": "display_data",
          "data": {
            "image/png": "[encoded data removed]",
            "text/plain": [
              "<Figure size 432x432 with 3 Axes>"
            ]
          },
          "metadata": {
            "needs_background": "light"
          }
        },
        {
          "output_type": "display_data",
          "data": {
            "image/png": "[encoded data removed]",
            "text/plain": [
              "<Figure size 432x432 with 3 Axes>"
            ]
          },
          "metadata": {
            "needs_background": "light"
          }
        },
        {
          "output_type": "display_data",
          "data": {
            "image/png": "[encoded data removed]",
            "text/plain": [
              "<Figure size 432x432 with 3 Axes>"
            ]
          },
          "metadata": {
            "needs_background": "light"
          }
        }
      ]
    },
    {
      "cell_type": "code",
      "metadata": {
        "colab": {
          "base_uri": "https://localhost:8080/",
          "height": 586
        },
        "id": "L9yHaHpsi-cy",
        "outputId": "4262dd7b-16e6-459f-f653-7cc3b24613dd"
      },
      "source": [
        "import statsmodels.formula.api as smf\n",
        "\n",
        "formula1b = 'log_salary ~ Minutes + USG + Games + DRtg + ORB + BLK'\n",
        "\n",
        "model1b_formula = smf.ols(formula = formula1b, data = nba_train)\n",
        "\n",
        "model_1b = model1b_formula.fit()\n",
        "\n",
        "residuals1b = model_1b.resid\n",
        "fitted1b = model_1b.fittedvalues\n",
        "\n",
        "model_1b.summary()"
      ],
      "execution_count": null,
      "outputs": [
        {
          "output_type": "execute_result",
          "data": {
            "text/html": [
              "<table class=\"simpletable\">\n",
              "<caption>OLS Regression Results</caption>\n",
              "<tr>\n",
              "  <th>Dep. Variable:</th>       <td>log_salary</td>    <th>  R-squared:         </th> <td>   0.588</td>\n",
              "</tr>\n",
              "<tr>\n",
              "  <th>Model:</th>                   <td>OLS</td>       <th>  Adj. R-squared:    </th> <td>   0.567</td>\n",
              "</tr>\n",
              "<tr>\n",
              "  <th>Method:</th>             <td>Least Squares</td>  <th>  F-statistic:       </th> <td>   28.28</td>\n",
              "</tr>\n",
              "<tr>\n",
              "  <th>Date:</th>             <td>Wed, 29 Sep 2021</td> <th>  Prob (F-statistic):</th> <td>8.32e-21</td>\n",
              "</tr>\n",
              "<tr>\n",
              "  <th>Time:</th>                 <td>12:31:31</td>     <th>  Log-Likelihood:    </th> <td> -112.87</td>\n",
              "</tr>\n",
              "<tr>\n",
              "  <th>No. Observations:</th>      <td>   126</td>      <th>  AIC:               </th> <td>   239.7</td>\n",
              "</tr>\n",
              "<tr>\n",
              "  <th>Df Residuals:</th>          <td>   119</td>      <th>  BIC:               </th> <td>   259.6</td>\n",
              "</tr>\n",
              "<tr>\n",
              "  <th>Df Model:</th>              <td>     6</td>      <th>                     </th>     <td> </td>   \n",
              "</tr>\n",
              "<tr>\n",
              "  <th>Covariance Type:</th>      <td>nonrobust</td>    <th>                     </th>     <td> </td>   \n",
              "</tr>\n",
              "</table>\n",
              "<table class=\"simpletable\">\n",
              "<tr>\n",
              "      <td></td>         <th>coef</th>     <th>std err</th>      <th>t</th>      <th>P>|t|</th>  <th>[0.025</th>    <th>0.975]</th>  \n",
              "</tr>\n",
              "<tr>\n",
              "  <th>Intercept</th> <td>    5.5347</td> <td>    2.145</td> <td>    2.581</td> <td> 0.011</td> <td>    1.288</td> <td>    9.781</td>\n",
              "</tr>\n",
              "<tr>\n",
              "  <th>Minutes</th>   <td>    0.0011</td> <td>    0.000</td> <td>    7.667</td> <td> 0.000</td> <td>    0.001</td> <td>    0.001</td>\n",
              "</tr>\n",
              "<tr>\n",
              "  <th>USG</th>       <td>    0.0374</td> <td>    0.014</td> <td>    2.739</td> <td> 0.007</td> <td>    0.010</td> <td>    0.064</td>\n",
              "</tr>\n",
              "<tr>\n",
              "  <th>Games</th>     <td>   -0.0273</td> <td>    0.007</td> <td>   -3.729</td> <td> 0.000</td> <td>   -0.042</td> <td>   -0.013</td>\n",
              "</tr>\n",
              "<tr>\n",
              "  <th>DRtg</th>      <td>   -0.0453</td> <td>    0.018</td> <td>   -2.483</td> <td> 0.014</td> <td>   -0.081</td> <td>   -0.009</td>\n",
              "</tr>\n",
              "<tr>\n",
              "  <th>ORB</th>       <td>    0.0400</td> <td>    0.020</td> <td>    1.991</td> <td> 0.049</td> <td>    0.000</td> <td>    0.080</td>\n",
              "</tr>\n",
              "<tr>\n",
              "  <th>BLK</th>       <td>   -0.0869</td> <td>    0.055</td> <td>   -1.570</td> <td> 0.119</td> <td>   -0.196</td> <td>    0.023</td>\n",
              "</tr>\n",
              "</table>\n",
              "<table class=\"simpletable\">\n",
              "<tr>\n",
              "  <th>Omnibus:</th>       <td> 8.626</td> <th>  Durbin-Watson:     </th> <td>   1.726</td>\n",
              "</tr>\n",
              "<tr>\n",
              "  <th>Prob(Omnibus):</th> <td> 0.013</td> <th>  Jarque-Bera (JB):  </th> <td>   8.410</td>\n",
              "</tr>\n",
              "<tr>\n",
              "  <th>Skew:</th>          <td>-0.568</td> <th>  Prob(JB):          </th> <td>  0.0149</td>\n",
              "</tr>\n",
              "<tr>\n",
              "  <th>Kurtosis:</th>      <td> 3.557</td> <th>  Cond. No.          </th> <td>7.67e+04</td>\n",
              "</tr>\n",
              "</table><br/><br/>Warnings:<br/>[1] Standard Errors assume that the covariance matrix of the errors is correctly specified.<br/>[2] The condition number is large, 7.67e+04. This might indicate that there are<br/>strong multicollinearity or other numerical problems."
            ],
            "text/plain": [
              "<class 'statsmodels.iolib.summary.Summary'>\n",
              "\"\"\"\n",
              "                            OLS Regression Results                            \n",
              "==============================================================================\n",
              "Dep. Variable:             log_salary   R-squared:                       0.588\n",
              "Model:                            OLS   Adj. R-squared:                  0.567\n",
              "Method:                 Least Squares   F-statistic:                     28.28\n",
              "Date:                Wed, 29 Sep 2021   Prob (F-statistic):           8.32e-21\n",
              "Time:                        12:31:31   Log-Likelihood:                -112.87\n",
              "No. Observations:                 126   AIC:                             239.7\n",
              "Df Residuals:                     119   BIC:                             259.6\n",
              "Df Model:                           6                                         \n",
              "Covariance Type:            nonrobust                                         \n",
              "==============================================================================\n",
              "                 coef    std err          t      P>|t|      [0.025      0.975]\n",
              "------------------------------------------------------------------------------\n",
              "Intercept      5.5347      2.145      2.581      0.011       1.288       9.781\n",
              "Minutes        0.0011      0.000      7.667      0.000       0.001       0.001\n",
              "USG            0.0374      0.014      2.739      0.007       0.010       0.064\n",
              "Games         -0.0273      0.007     -3.729      0.000      -0.042      -0.013\n",
              "DRtg          -0.0453      0.018     -2.483      0.014      -0.081      -0.009\n",
              "ORB            0.0400      0.020      1.991      0.049       0.000       0.080\n",
              "BLK           -0.0869      0.055     -1.570      0.119      -0.196       0.023\n",
              "==============================================================================\n",
              "Omnibus:                        8.626   Durbin-Watson:                   1.726\n",
              "Prob(Omnibus):                  0.013   Jarque-Bera (JB):                8.410\n",
              "Skew:                          -0.568   Prob(JB):                       0.0149\n",
              "Kurtosis:                       3.557   Cond. No.                     7.67e+04\n",
              "==============================================================================\n",
              "\n",
              "Warnings:\n",
              "[1] Standard Errors assume that the covariance matrix of the errors is correctly specified.\n",
              "[2] The condition number is large, 7.67e+04. This might indicate that there are\n",
              "strong multicollinearity or other numerical problems.\n",
              "\"\"\""
            ]
          },
          "metadata": {},
          "execution_count": 25
        }
      ]
    },
    {
      "cell_type": "code",
      "metadata": {
        "colab": {
          "base_uri": "https://localhost:8080/",
          "height": 373
        },
        "id": "QAr4o2jTjcod",
        "outputId": "b2c67049-4bd2-4252-adc5-91a56f2c5ba8"
      },
      "source": [
        "fig, ax= plt.subplots()\n",
        "sns.regplot(fitted1b, residuals1b, lowess=True, ax=ax, scatter_kws={'s': 35, 'alpha': .6})\n",
        "ax.set_xlabel('Fitted values',  {'fontsize': 12})\n",
        "ax.set_ylabel('Residuals', {'fontsize': 12})\n",
        "ax.set_title('Model 1: Fitted against residuals')\n",
        "plt.axhline(color='Black', alpha=0.3, linestyle='--')  \n",
        "#plt.show()"
      ],
      "execution_count": null,
      "outputs": [
        {
          "output_type": "stream",
          "name": "stderr",
          "text": [
            "/usr/local/lib/python3.7/dist-packages/seaborn/_decorators.py:43: FutureWarning: Pass the following variables as keyword args: x, y. From version 0.12, the only valid positional argument will be `data`, and passing other arguments without an explicit keyword will result in an error or misinterpretation.\n",
            "  FutureWarning\n"
          ]
        },
        {
          "output_type": "execute_result",
          "data": {
            "text/plain": [
              "<matplotlib.lines.Line2D at 0x7f2b25c1a850>"
            ]
          },
          "metadata": {},
          "execution_count": 26
        },
        {
          "output_type": "display_data",
          "data": {
            "image/png": "[encoded data removed]",
            "text/plain": [
              "<Figure size 432x288 with 1 Axes>"
            ]
          },
          "metadata": {
            "needs_background": "light"
          }
        }
      ]
    },
    {
      "cell_type": "markdown",
      "metadata": {
        "id": "S0YhhX5O-M1s"
      },
      "source": [
        "**Module 1b Evaluation**"
      ]
    },
    {
      "cell_type": "code",
      "metadata": {
        "colab": {
          "base_uri": "https://localhost:8080/"
        },
        "id": "2mEdq2m--PiV",
        "outputId": "1ca514a6-77e0-4204-eadb-d933727d08b6"
      },
      "source": [
        "# Model 1b - MLR with Forward selection\n",
        "predictions1b = np.exp(model_1b.predict(nba_test[['Minutes','USG','Games','DRtg','ORB','BLK']]))\n",
        "mse1b = mean_squared_error(nba_test['SALARY'], predictions1b)\n",
        "rmse1b = np.sqrt(mse1b)\n",
        "print('RMSE of Model 1b: $', rmse1b.round(4), 'millions')"
      ],
      "execution_count": null,
      "outputs": [
        {
          "output_type": "stream",
          "name": "stdout",
          "text": [
            "RMSE of Model 1b: $ 4.1572 millions\n"
          ]
        }
      ]
    },
    {
      "cell_type": "code",
      "metadata": {
        "colab": {
          "base_uri": "https://localhost:8080/"
        },
        "id": "UET0plKD79rZ",
        "outputId": "f71366d1-83e7-4745-fb02-bef031b01296"
      },
      "source": [
        "import statsmodels.api as sm\n",
        "\n",
        "# VIF of Model 1b\n",
        "features1b = nba_train[['Minutes','USG','Games','DRtg','ORB','BLK']]\n",
        "features1b = sm.add_constant(features1b)  \n",
        "\n",
        "from statsmodels.stats.outliers_influence import variance_inflation_factor\n",
        "vif1b = []\n",
        "for i in range(6):\n",
        "    vif1b.append(variance_inflation_factor(features1b.values, i+1))\n",
        "    \n",
        "vif1b"
      ],
      "execution_count": null,
      "outputs": [
        {
          "output_type": "execute_result",
          "data": {
            "text/plain": [
              "[3.204235182141398,\n",
              " 1.5448795674020275,\n",
              " 2.361834630762633,\n",
              " 1.5119139376867665,\n",
              " 1.9858850656423752,\n",
              " 1.9010313107910113]"
            ]
          },
          "metadata": {},
          "execution_count": 28
        }
      ]
    },
    {
      "cell_type": "code",
      "metadata": {
        "colab": {
          "base_uri": "https://localhost:8080/"
        },
        "id": "I0QMmxeG8Tsc",
        "outputId": "a0dfb098-55df-4634-bbd4-07562d976ab4"
      },
      "source": [
        "# Average VIF of Model 1b\n",
        "sum(vif1b)/6"
      ],
      "execution_count": null,
      "outputs": [
        {
          "output_type": "execute_result",
          "data": {
            "text/plain": [
              "2.0849632824043685"
            ]
          },
          "metadata": {},
          "execution_count": 29
        }
      ]
    },
    {
      "cell_type": "code",
      "metadata": {
        "colab": {
          "base_uri": "https://localhost:8080/"
        },
        "id": "U8D5xRsy_8kj",
        "outputId": "2d518754-5077-48c4-ebd6-6eaa0dd200aa"
      },
      "source": [
        "# Variance of Model 1b output\n",
        "variance_model_1b = predictions1b.var()\n",
        "print(variance_model_1b)"
      ],
      "execution_count": null,
      "outputs": [
        {
          "output_type": "stream",
          "name": "stdout",
          "text": [
            "15.369276505414032\n"
          ]
        }
      ]
    },
    {
      "cell_type": "code",
      "metadata": {
        "colab": {
          "base_uri": "https://localhost:8080/"
        },
        "id": "4OZDyQ-IAf_Z",
        "outputId": "d794d3a7-b179-4d36-c3e8-b1e3390ab079"
      },
      "source": [
        "# Coefficient of Variance of Model 1b output\n",
        "print('Model1b_CV:', np.std(predictions1b)/np.mean(predictions1b))"
      ],
      "execution_count": null,
      "outputs": [
        {
          "output_type": "stream",
          "name": "stdout",
          "text": [
            "Model1b_CV: 0.693404770498629\n"
          ]
        }
      ]
    },
    {
      "cell_type": "markdown",
      "metadata": {
        "id": "R31vbDLzk1GG"
      },
      "source": [
        "**With 6 most correlated regressors**"
      ]
    },
    {
      "cell_type": "code",
      "metadata": {
        "colab": {
          "base_uri": "https://localhost:8080/",
          "height": 586
        },
        "id": "gbjaBmaCk0lW",
        "outputId": "664bf395-6691-444e-dbf8-deeb8257a097"
      },
      "source": [
        "import statsmodels.formula.api as smf\n",
        "\n",
        "formula1c = 'log_salary ~ OWS + Minutes + USG + PER + DWS + WS'\n",
        "\n",
        "model1c_formula = smf.ols(formula = formula1c, data = nba_train)\n",
        "\n",
        "model_1c = model1c_formula.fit()\n",
        "\n",
        "residuals1c = model_1c.resid\n",
        "fitted1c = model_1c.fittedvalues\n",
        "\n",
        "model_1c.summary()"
      ],
      "execution_count": null,
      "outputs": [
        {
          "output_type": "execute_result",
          "data": {
            "text/html": [
              "<table class=\"simpletable\">\n",
              "<caption>OLS Regression Results</caption>\n",
              "<tr>\n",
              "  <th>Dep. Variable:</th>       <td>log_salary</td>    <th>  R-squared:         </th> <td>   0.545</td>\n",
              "</tr>\n",
              "<tr>\n",
              "  <th>Model:</th>                   <td>OLS</td>       <th>  Adj. R-squared:    </th> <td>   0.522</td>\n",
              "</tr>\n",
              "<tr>\n",
              "  <th>Method:</th>             <td>Least Squares</td>  <th>  F-statistic:       </th> <td>   23.77</td>\n",
              "</tr>\n",
              "<tr>\n",
              "  <th>Date:</th>             <td>Wed, 29 Sep 2021</td> <th>  Prob (F-statistic):</th> <td>2.51e-18</td>\n",
              "</tr>\n",
              "<tr>\n",
              "  <th>Time:</th>                 <td>12:31:32</td>     <th>  Log-Likelihood:    </th> <td> -119.07</td>\n",
              "</tr>\n",
              "<tr>\n",
              "  <th>No. Observations:</th>      <td>   126</td>      <th>  AIC:               </th> <td>   252.1</td>\n",
              "</tr>\n",
              "<tr>\n",
              "  <th>Df Residuals:</th>          <td>   119</td>      <th>  BIC:               </th> <td>   272.0</td>\n",
              "</tr>\n",
              "<tr>\n",
              "  <th>Df Model:</th>              <td>     6</td>      <th>                     </th>     <td> </td>   \n",
              "</tr>\n",
              "<tr>\n",
              "  <th>Covariance Type:</th>      <td>nonrobust</td>    <th>                     </th>     <td> </td>   \n",
              "</tr>\n",
              "</table>\n",
              "<table class=\"simpletable\">\n",
              "<tr>\n",
              "      <td></td>         <th>coef</th>     <th>std err</th>      <th>t</th>      <th>P>|t|</th>  <th>[0.025</th>    <th>0.975]</th>  \n",
              "</tr>\n",
              "<tr>\n",
              "  <th>Intercept</th> <td>   -0.9185</td> <td>    0.354</td> <td>   -2.598</td> <td> 0.011</td> <td>   -1.619</td> <td>   -0.218</td>\n",
              "</tr>\n",
              "<tr>\n",
              "  <th>OWS</th>       <td>    1.2485</td> <td>    1.121</td> <td>    1.114</td> <td> 0.268</td> <td>   -0.971</td> <td>    3.468</td>\n",
              "</tr>\n",
              "<tr>\n",
              "  <th>Minutes</th>   <td>    0.0005</td> <td>    0.000</td> <td>    3.784</td> <td> 0.000</td> <td>    0.000</td> <td>    0.001</td>\n",
              "</tr>\n",
              "<tr>\n",
              "  <th>USG</th>       <td>    0.0392</td> <td>    0.020</td> <td>    1.989</td> <td> 0.049</td> <td>    0.000</td> <td>    0.078</td>\n",
              "</tr>\n",
              "<tr>\n",
              "  <th>PER</th>       <td>    0.0377</td> <td>    0.036</td> <td>    1.036</td> <td> 0.302</td> <td>   -0.034</td> <td>    0.110</td>\n",
              "</tr>\n",
              "<tr>\n",
              "  <th>DWS</th>       <td>    1.4088</td> <td>    1.117</td> <td>    1.261</td> <td> 0.210</td> <td>   -0.803</td> <td>    3.621</td>\n",
              "</tr>\n",
              "<tr>\n",
              "  <th>WS</th>        <td>   -1.2805</td> <td>    1.115</td> <td>   -1.148</td> <td> 0.253</td> <td>   -3.488</td> <td>    0.927</td>\n",
              "</tr>\n",
              "</table>\n",
              "<table class=\"simpletable\">\n",
              "<tr>\n",
              "  <th>Omnibus:</th>       <td> 9.332</td> <th>  Durbin-Watson:     </th> <td>   1.828</td>\n",
              "</tr>\n",
              "<tr>\n",
              "  <th>Prob(Omnibus):</th> <td> 0.009</td> <th>  Jarque-Bera (JB):  </th> <td>  10.799</td>\n",
              "</tr>\n",
              "<tr>\n",
              "  <th>Skew:</th>          <td>-0.474</td> <th>  Prob(JB):          </th> <td> 0.00452</td>\n",
              "</tr>\n",
              "<tr>\n",
              "  <th>Kurtosis:</th>      <td> 4.076</td> <th>  Cond. No.          </th> <td>6.58e+04</td>\n",
              "</tr>\n",
              "</table><br/><br/>Warnings:<br/>[1] Standard Errors assume that the covariance matrix of the errors is correctly specified.<br/>[2] The condition number is large, 6.58e+04. This might indicate that there are<br/>strong multicollinearity or other numerical problems."
            ],
            "text/plain": [
              "<class 'statsmodels.iolib.summary.Summary'>\n",
              "\"\"\"\n",
              "                            OLS Regression Results                            \n",
              "==============================================================================\n",
              "Dep. Variable:             log_salary   R-squared:                       0.545\n",
              "Model:                            OLS   Adj. R-squared:                  0.522\n",
              "Method:                 Least Squares   F-statistic:                     23.77\n",
              "Date:                Wed, 29 Sep 2021   Prob (F-statistic):           2.51e-18\n",
              "Time:                        12:31:32   Log-Likelihood:                -119.07\n",
              "No. Observations:                 126   AIC:                             252.1\n",
              "Df Residuals:                     119   BIC:                             272.0\n",
              "Df Model:                           6                                         \n",
              "Covariance Type:            nonrobust                                         \n",
              "==============================================================================\n",
              "                 coef    std err          t      P>|t|      [0.025      0.975]\n",
              "------------------------------------------------------------------------------\n",
              "Intercept     -0.9185      0.354     -2.598      0.011      -1.619      -0.218\n",
              "OWS            1.2485      1.121      1.114      0.268      -0.971       3.468\n",
              "Minutes        0.0005      0.000      3.784      0.000       0.000       0.001\n",
              "USG            0.0392      0.020      1.989      0.049       0.000       0.078\n",
              "PER            0.0377      0.036      1.036      0.302      -0.034       0.110\n",
              "DWS            1.4088      1.117      1.261      0.210      -0.803       3.621\n",
              "WS            -1.2805      1.115     -1.148      0.253      -3.488       0.927\n",
              "==============================================================================\n",
              "Omnibus:                        9.332   Durbin-Watson:                   1.828\n",
              "Prob(Omnibus):                  0.009   Jarque-Bera (JB):               10.799\n",
              "Skew:                          -0.474   Prob(JB):                      0.00452\n",
              "Kurtosis:                       4.076   Cond. No.                     6.58e+04\n",
              "==============================================================================\n",
              "\n",
              "Warnings:\n",
              "[1] Standard Errors assume that the covariance matrix of the errors is correctly specified.\n",
              "[2] The condition number is large, 6.58e+04. This might indicate that there are\n",
              "strong multicollinearity or other numerical problems.\n",
              "\"\"\""
            ]
          },
          "metadata": {},
          "execution_count": 32
        }
      ]
    },
    {
      "cell_type": "code",
      "metadata": {
        "colab": {
          "base_uri": "https://localhost:8080/",
          "height": 373
        },
        "id": "Q-eoIZNvlDMv",
        "outputId": "46ec3a23-7745-4bb9-f922-9ee75c5e7161"
      },
      "source": [
        "fig, ax= plt.subplots()\n",
        "sns.regplot(fitted1c, residuals1c, lowess=True, ax=ax, scatter_kws={'s': 35, 'alpha': .6})\n",
        "ax.set_xlabel('Fitted values',  {'fontsize': 12})\n",
        "ax.set_ylabel('Residuals', {'fontsize': 12})\n",
        "ax.set_title('Model 1: Fitted against residuals')\n",
        "plt.axhline(color='Black', alpha=0.3, linestyle='--')  \n",
        "#plt.show()"
      ],
      "execution_count": null,
      "outputs": [
        {
          "output_type": "stream",
          "name": "stderr",
          "text": [
            "/usr/local/lib/python3.7/dist-packages/seaborn/_decorators.py:43: FutureWarning: Pass the following variables as keyword args: x, y. From version 0.12, the only valid positional argument will be `data`, and passing other arguments without an explicit keyword will result in an error or misinterpretation.\n",
            "  FutureWarning\n"
          ]
        },
        {
          "output_type": "execute_result",
          "data": {
            "text/plain": [
              "<matplotlib.lines.Line2D at 0x7f2b25bd1350>"
            ]
          },
          "metadata": {},
          "execution_count": 33
        },
        {
          "output_type": "display_data",
          "data": {
            "image/png": "[encoded data removed]",
            "text/plain": [
              "<Figure size 432x288 with 1 Axes>"
            ]
          },
          "metadata": {
            "needs_background": "light"
          }
        }
      ]
    },
    {
      "cell_type": "markdown",
      "metadata": {
        "id": "-5RXISx8-VrZ"
      },
      "source": [
        "**Module 1c Evaluation**"
      ]
    },
    {
      "cell_type": "code",
      "metadata": {
        "colab": {
          "base_uri": "https://localhost:8080/"
        },
        "id": "u7j6TR_x-TqY",
        "outputId": "9047e2d1-0e98-4a46-fcf1-30e9efbb5840"
      },
      "source": [
        "# Model 1c - MLR with 6 most correlated regressors \n",
        "predictions1c = np.exp(model_1c.predict(nba_test[['OWS','Minutes','USG','PER','DWS','WS']]))\n",
        "mse1c = mean_squared_error(nba_test['SALARY'], predictions1c)\n",
        "rmse1c = np.sqrt(mse1c)\n",
        "print('RMSE of Model 1c: $', rmse1c.round(4), 'millions')"
      ],
      "execution_count": null,
      "outputs": [
        {
          "output_type": "stream",
          "name": "stdout",
          "text": [
            "RMSE of Model 1c: $ 4.434 millions\n"
          ]
        }
      ]
    },
    {
      "cell_type": "code",
      "metadata": {
        "colab": {
          "base_uri": "https://localhost:8080/"
        },
        "id": "jqAyCsFb8fAU",
        "outputId": "2b860d6f-217d-409e-a5f7-5954fd0d111d"
      },
      "source": [
        "import statsmodels.api as sm\n",
        "\n",
        "# VIF of Model 1c\n",
        "features1c = nba_train[['OWS','Minutes','USG','PER','DWS','WS']]\n",
        "features1c = sm.add_constant(features1c)  \n",
        "\n",
        "from statsmodels.stats.outliers_influence import variance_inflation_factor\n",
        "vif1c = []\n",
        "for i in range(6):\n",
        "    vif1c.append(variance_inflation_factor(features1c.values, i+1))\n",
        "    \n",
        "vif1c"
      ],
      "execution_count": null,
      "outputs": [
        {
          "output_type": "execute_result",
          "data": {
            "text/plain": [
              "[2667.298936600439,\n",
              " 2.9828406630515887,\n",
              " 2.9187181757265677,\n",
              " 7.471357231401546,\n",
              " 528.2425060199618,\n",
              " 4384.201571290038]"
            ]
          },
          "metadata": {},
          "execution_count": 35
        }
      ]
    },
    {
      "cell_type": "code",
      "metadata": {
        "colab": {
          "base_uri": "https://localhost:8080/"
        },
        "id": "2wDLyRk18on1",
        "outputId": "72eb733a-11a3-41c9-daac-9cbf5692dc79"
      },
      "source": [
        "# Average VIF of Model 1c\n",
        "sum(vif1c)/6"
      ],
      "execution_count": null,
      "outputs": [
        {
          "output_type": "execute_result",
          "data": {
            "text/plain": [
              "1265.5193216634364"
            ]
          },
          "metadata": {},
          "execution_count": 36
        }
      ]
    },
    {
      "cell_type": "code",
      "metadata": {
        "colab": {
          "base_uri": "https://localhost:8080/"
        },
        "id": "Aj6pnGeiBKG2",
        "outputId": "3fe58cf6-2cc7-47c3-bc9c-76ab7671c040"
      },
      "source": [
        "# Coefficient of Variance of Model 1c output\n",
        "print('Model1c_CV:', np.std(predictions1c)/np.mean(predictions1c))"
      ],
      "execution_count": null,
      "outputs": [
        {
          "output_type": "stream",
          "name": "stdout",
          "text": [
            "Model1c_CV: 0.6602594265289603\n"
          ]
        }
      ]
    },
    {
      "cell_type": "markdown",
      "metadata": {
        "id": "tC-JHyLMGuuM"
      },
      "source": [
        "# Module 2: KNN regression"
      ]
    },
    {
      "cell_type": "code",
      "metadata": {
        "colab": {
          "base_uri": "https://localhost:8080/",
          "height": 302
        },
        "id": "cORo74DnGyZY",
        "outputId": "ecc24227-56e4-46b4-efac-6f7a9e919447"
      },
      "source": [
        "# Import necessary method from a package\n",
        "from sklearn.neighbors import KNeighborsRegressor\n",
        "from sklearn.metrics import mean_squared_error\n",
        "\n",
        "# Function - Determination of k that gives the lowest test error\n",
        "values = np.arange(1, 127)\n",
        "predictors_knn = ['BLK','Minutes','Games','PER']\n",
        "\n",
        "losses2 = []\n",
        "for k in values: \n",
        "    # 1. Specify and fit the model (there is no need to store it)\n",
        "    knn2 = KNeighborsRegressor(n_neighbors=k, metric='mahalanobis', metric_params={'V': nba_train[predictors_knn].cov()}) \n",
        "    knn2.fit(nba_train[predictors_knn], nba_train['SALARY'])\n",
        "    # 2. Compute predictions for the test data\n",
        "    predictions2 = knn2.predict(nba_test[predictors_knn])\n",
        "    # 3. Compute the root mean squared error and assign to a variable called loss\n",
        "    loss2 = np.sqrt(mean_squared_error(nba_test['SALARY'], predictions2))\n",
        "    \n",
        "    losses2.append(loss2)\n",
        "\n",
        "# Plot Test Error vs. Number of K\n",
        "fig, ax= plt.subplots()\n",
        "ax.plot(values, losses2) # add the command to plot the required rigure\n",
        "ax.set_xlabel('Number of neighbours')\n",
        "ax.set_ylabel('Test error')\n",
        "plt.show()\n",
        "\n",
        "# Conlcusion\n",
        "decision2 = 1 + np.argmin(losses2)\n",
        "\n",
        "print('K with the lowest test error:', decision2)"
      ],
      "execution_count": null,
      "outputs": [
        {
          "output_type": "display_data",
          "data": {
            "image/png": "[encoded data removed]",
            "text/plain": [
              "<Figure size 432x288 with 1 Axes>"
            ]
          },
          "metadata": {
            "needs_background": "light"
          }
        },
        {
          "output_type": "stream",
          "name": "stdout",
          "text": [
            "K with the lowest test error: 10\n"
          ]
        }
      ]
    },
    {
      "cell_type": "code",
      "metadata": {
        "colab": {
          "base_uri": "https://localhost:8080/"
        },
        "id": "fVAlcsA8GuPg",
        "outputId": "ee166ed7-572c-4f57-b639-9e874c7b8be9"
      },
      "source": [
        "#9NN\n",
        "\n",
        "# Specify the model and option\n",
        "knn2 = KNeighborsRegressor(n_neighbors=9, metric='mahalanobis', metric_params={'V': nba_train[predictors_knn].cov()})\n",
        "\n",
        "# Fit the model\n",
        "model_2 = knn2.fit(nba_train[predictors_knn], nba_train['SALARY'])\n",
        "\n",
        "print(model_2)"
      ],
      "execution_count": null,
      "outputs": [
        {
          "output_type": "stream",
          "name": "stdout",
          "text": [
            "KNeighborsRegressor(algorithm='auto', leaf_size=30, metric='mahalanobis',\n",
            "                    metric_params={'V':                 BLK        Minutes        Games          PER\n",
            "BLK        1.848142    -224.667556    -1.505511     0.573040\n",
            "Minutes -224.667556  494998.799746  5619.624635  1644.810171\n",
            "Games     -1.505511    5619.624635   130.714413    10.766171\n",
            "PER        0.573040    1644.810171    10.766171    18.544394},\n",
            "                    n_jobs=None, n_neighbors=9, p=2, weights='uniform')\n"
          ]
        }
      ]
    },
    {
      "cell_type": "markdown",
      "metadata": {
        "id": "gwAxraY9-eRe"
      },
      "source": [
        "**Module 2 Evaluation**"
      ]
    },
    {
      "cell_type": "code",
      "metadata": {
        "colab": {
          "base_uri": "https://localhost:8080/"
        },
        "id": "eLwqPHDo-dh9",
        "outputId": "742d8efe-f75b-4315-947d-0fb9c002a44d"
      },
      "source": [
        "# Model 2 - 9NN with log_salary\n",
        "predictions2_train = knn2.predict(nba_train[predictors_knn])\n",
        "mse2_train = mean_squared_error(nba_train['SALARY'], predictions2_train)\n",
        "rmse2_train = np.sqrt(mse2_train)\n",
        "print('RMSE of Training Model 2: $', rmse2_train.round(4), 'millions')\n",
        "\n",
        "predictions2 = knn2.predict(nba_test[predictors_knn])\n",
        "mse2 = mean_squared_error(nba_test['SALARY'], predictions2)\n",
        "rmse2 = np.sqrt(mse2)\n",
        "print('RMSE of Testing Model 2: $', rmse2.round(4), 'millions')"
      ],
      "execution_count": null,
      "outputs": [
        {
          "output_type": "stream",
          "name": "stdout",
          "text": [
            "RMSE of Training Model 2: $ 3.4553 millions\n",
            "RMSE of Testing Model 2: $ 4.1408 millions\n"
          ]
        }
      ]
    },
    {
      "cell_type": "code",
      "metadata": {
        "colab": {
          "base_uri": "https://localhost:8080/"
        },
        "id": "mDkyUhO8smZt",
        "outputId": "8ed1ab67-f0b6-462c-f919-e487b29e1207"
      },
      "source": [
        "# R-squared of 9NN regression\n",
        "rsquared_knn = r2_score(nba_test['SALARY'], predictions2)\n",
        "print(rsquared_knn)"
      ],
      "execution_count": null,
      "outputs": [
        {
          "output_type": "stream",
          "name": "stdout",
          "text": [
            "0.42518752478606225\n"
          ]
        }
      ]
    },
    {
      "cell_type": "code",
      "metadata": {
        "colab": {
          "base_uri": "https://localhost:8080/"
        },
        "id": "gBok26f6BE3p",
        "outputId": "ebcd8301-3324-4598-c747-5ef387e0956d"
      },
      "source": [
        "# Coefficient of Variance of Model 2 output\n",
        "print('Model2_CV:', np.std(predictions2)/np.mean(predictions2))"
      ],
      "execution_count": null,
      "outputs": [
        {
          "output_type": "stream",
          "name": "stdout",
          "text": [
            "Model2_CV: 0.49908317301752775\n"
          ]
        }
      ]
    }
  ]
}